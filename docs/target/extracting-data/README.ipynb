{
    "nbformat": 4,
    "nbformat_minor": 0,
    "metadata": {
        "colab": {
            "name": "extracting-data.ipynb",
            "provenance": [],
            "toc_visible": true,
            "authorship_tag": "ABX9TyMc+GN9GG+LrxjBDEZUI0Hk"
        },
        "kernelspec": {
            "name": "python3",
            "display_name": "Python 3"
        }
    },
    "cells": [
        {
            "cell_type": "markdown",
            "metadata": {
                "id": "Vn7AS0fPm1wF",
                "colab_type": "text"
            },
            "source": [
                "# Extracting Data\n",
                "\n",
                "Extracting data means reading tabular data from some source. We can use various customization for this process as though providing a file format, table schema, limiting fields or rows amount, and many more. Let's see on real files:"
            ]
        },
        {
            "cell_type": "code",
            "metadata": {
                "id": "AnOy1djZjvX_",
                "colab_type": "code",
                "colab": {}
            },
            "source": [
                "! pip install frictionless"
            ],
            "execution_count": null,
            "outputs": []
        },
        {
            "cell_type": "code",
            "metadata": {
                "id": "j4Jc6MOPnOc2",
                "colab_type": "code",
                "colab": {
                    "base_uri": "https://localhost:8080/",
                    "height": 118
                },
                "executionInfo": {
                    "status": "ok",
                    "timestamp": 1596175368170,
                    "user_tz": -180,
                    "elapsed": 3463,
                    "user": {
                        "displayName": "Evgeny Karev",
                        "photoUrl": "",
                        "userId": "12160649330696878788"
                    }
                },
                "outputId": "8ce16aff-0ee8-46cd-a8ab-03e6cec79c39"
            },
            "source": [
                "! wget -q -O country-3.csv https://raw.githubusercontent.com/frictionlessdata/frictionless-py/master/data/country-3.csv\n",
                "! cat country-3.csv"
            ],
            "execution_count": null,
            "outputs": [
                {
                    "output_type": "stream",
                    "text": [
                        "id,capital_id,name,population\n",
                        "1,1,Britain,67\n",
                        "2,3,France,67\n",
                        "3,2,Germany,83\n",
                        "4,5,Italy,60\n",
                        "5,4,Spain,47\n"
                    ],
                    "name": "stdout"
                }
            ]
        },
        {
            "cell_type": "code",
            "metadata": {
                "id": "76QRo9tKeC-y",
                "colab_type": "code",
                "colab": {
                    "base_uri": "https://localhost:8080/",
                    "height": 118
                },
                "executionInfo": {
                    "status": "ok",
                    "timestamp": 1596175452917,
                    "user_tz": -180,
                    "elapsed": 3535,
                    "user": {
                        "displayName": "Evgeny Karev",
                        "photoUrl": "",
                        "userId": "12160649330696878788"
                    }
                },
                "outputId": "eb700bf4-35ed-45d9-c1ae-df6d003a4a8e"
            },
            "source": [
                "! wget -q -O capital-3.csv https://raw.githubusercontent.com/frictionlessdata/frictionless-py/master/data/capital-3.csv\n",
                "! cat capital-3.csv"
            ],
            "execution_count": null,
            "outputs": [
                {
                    "output_type": "stream",
                    "text": [
                        "id,name\n",
                        "1,London\n",
                        "2,Berlin\n",
                        "3,Paris\n",
                        "4,Madrid\n",
                        "5,Rome\n"
                    ],
                    "name": "stdout"
                }
            ]
        },
        {
            "cell_type": "markdown",
            "metadata": {
                "id": "U0CapHz4nukB",
                "colab_type": "text"
            },
            "source": [
                "For a starter, we will use the command-line interface:"
            ]
        },
        {
            "cell_type": "code",
            "metadata": {
                "id": "M7QGuvkMkanZ",
                "colab_type": "code",
                "colab": {
                    "base_uri": "https://localhost:8080/",
                    "height": 168
                },
                "executionInfo": {
                    "status": "ok",
                    "timestamp": 1596175389453,
                    "user_tz": -180,
                    "elapsed": 2549,
                    "user": {
                        "displayName": "Evgeny Karev",
                        "photoUrl": "",
                        "userId": "12160649330696878788"
                    }
                },
                "outputId": "7c94eda9-a6e9-4a24-e758-cacb10846649"
            },
            "source": [
                "! frictionless extract country-3.csv"
            ],
            "execution_count": null,
            "outputs": [
                {
                    "output_type": "stream",
                    "text": [
                        "\u001b[1m[data] country-3.csv\u001b[0m\n",
                        "\u001b[0m\n",
                        "  id    capital_id  name       population\n",
                        "----  ------------  -------  ------------\n",
                        "   1             1  Britain            67\n",
                        "   2             3  France             67\n",
                        "   3             2  Germany            83\n",
                        "   4             5  Italy              60\n",
                        "   5             4  Spain              47\u001b[0m\n"
                    ],
                    "name": "stdout"
                }
            ]
        },
        {
            "cell_type": "markdown",
            "metadata": {
                "id": "vJIyhVcVnyO8",
                "colab_type": "text"
            },
            "source": [
                "The same can be done in Python:"
            ]
        },
        {
            "cell_type": "code",
            "metadata": {
                "id": "nrmLl5i4jhbT",
                "colab_type": "code",
                "colab": {
                    "base_uri": "https://localhost:8080/",
                    "height": 101
                },
                "executionInfo": {
                    "status": "ok",
                    "timestamp": 1596175394240,
                    "user_tz": -180,
                    "elapsed": 615,
                    "user": {
                        "displayName": "Evgeny Karev",
                        "photoUrl": "",
                        "userId": "12160649330696878788"
                    }
                },
                "outputId": "eb5578c2-325a-4757-b86f-03f4730d878c"
            },
            "source": [
                "from pprint import pprint\n",
                "from frictionless import extract\n",
                "\n",
                "rows = extract('country-3.csv')\n",
                "pprint(rows)"
            ],
            "execution_count": null,
            "outputs": [
                {
                    "output_type": "stream",
                    "text": [
                        "[Row([('id', 1), ('capital_id', 1), ('name', 'Britain'), ('population', 67)]),\n",
                        " Row([('id', 2), ('capital_id', 3), ('name', 'France'), ('population', 67)]),\n",
                        " Row([('id', 3), ('capital_id', 2), ('name', 'Germany'), ('population', 83)]),\n",
                        " Row([('id', 4), ('capital_id', 5), ('name', 'Italy'), ('population', 60)]),\n",
                        " Row([('id', 5), ('capital_id', 4), ('name', 'Spain'), ('population', 47)])]\n"
                    ],
                    "name": "stdout"
                }
            ]
        },
        {
            "cell_type": "markdown",
            "metadata": {
                "id": "DY92Xq3dn2A-",
                "colab_type": "text"
            },
            "source": [
                "## Extract Functions\n",
                "\n",
                "The high-level interface for extracting data provided by Frictionless is a set of `extract` functions:\n",
                "- `extract`: it will detect the source type and extract data accordingly\n",
                "- `extract_package`: it accepts a package descriptor and returns a map of the package's tables\n",
                "- `extract_resource`: it accepts a resource descriptor and returns a table data\n",
                "- `extract_table`: it accepts various tabular options and returns a table data\n",
                "\n",
                "In command-line, there is only 1 command but there is a flag to adjust the behavior:\n",
                "\n",
                "```bash\n",
                "$ frictionless extract\n",
                "$ frictionless extract --source-type package\n",
                "$ frictionless extract --source-type resource\n",
                "$ frictionless extract --source-type table\n",
                "```\n"
            ]
        },
        {
            "cell_type": "markdown",
            "metadata": {
                "id": "o9sYqrlSyeSc",
                "colab_type": "text"
            },
            "source": [
                "The `extract` functions always read data in a form of rows (see the object description below) into memory. The lower-level interfaces will allow you to stream data and various output forms."
            ]
        },
        {
            "cell_type": "markdown",
            "metadata": {
                "id": "pVwTt5gPsmpH",
                "colab_type": "text"
            },
            "source": [
                "\n",
                "### Extracting Package\n",
                "\n",
                "The easiest way is to use a command line-interface. We're going to provide two files to the `extract` command which will be enough to detect that it's a dataset:"
            ]
        },
        {
            "cell_type": "code",
            "metadata": {
                "id": "DGnHZezdoZhX",
                "colab_type": "code",
                "colab": {
                    "base_uri": "https://localhost:8080/",
                    "height": 336
                },
                "executionInfo": {
                    "status": "ok",
                    "timestamp": 1596175470544,
                    "user_tz": -180,
                    "elapsed": 2694,
                    "user": {
                        "displayName": "Evgeny Karev",
                        "photoUrl": "",
                        "userId": "12160649330696878788"
                    }
                },
                "outputId": "9159c3e3-8412-4884-f449-92d6fc1ca145"
            },
            "source": [
                "! frictionless extract *-3.csv"
            ],
            "execution_count": null,
            "outputs": [
                {
                    "output_type": "stream",
                    "text": [
                        "\u001b[1m[data] capital-3.csv\n",
                        "\u001b[0m\n",
                        "  id  name\n",
                        "----  ------\n",
                        "   1  London\n",
                        "   2  Berlin\n",
                        "   3  Paris\n",
                        "   4  Madrid\n",
                        "   5  Rome\u001b[0m\n",
                        "\u001b[0m\n",
                        "\u001b[1m[data] country-3.csv\n",
                        "\u001b[0m\n",
                        "  id    capital_id  name       population\n",
                        "----  ------------  -------  ------------\n",
                        "   1             1  Britain            67\n",
                        "   2             3  France             67\n",
                        "   3             2  Germany            83\n",
                        "   4             5  Italy              60\n",
                        "   5             4  Spain              47\u001b[0m\n"
                    ],
                    "name": "stdout"
                }
            ]
        },
        {
            "cell_type": "markdown",
            "metadata": {
                "id": "inaXNjNHoz5l",
                "colab_type": "text"
            },
            "source": [
                "In Python we have can do the same providing a glob for the `extract` function but instead we will use `extract_package` providing a package descriptor:"
            ]
        },
        {
            "cell_type": "code",
            "metadata": {
                "id": "u7TDuJCLpEXL",
                "colab_type": "code",
                "colab": {
                    "base_uri": "https://localhost:8080/",
                    "height": 218
                },
                "executionInfo": {
                    "status": "ok",
                    "timestamp": 1596175943118,
                    "user_tz": -180,
                    "elapsed": 652,
                    "user": {
                        "displayName": "Evgeny Karev",
                        "photoUrl": "",
                        "userId": "12160649330696878788"
                    }
                },
                "outputId": "b94a2613-9f0f-4e6e-a660-f1a720d697b8"
            },
            "source": [
                "from frictionless import extract_package\n",
                "\n",
                "data = extract_package({'resources':[{'path': 'country-3.csv'}, {'path': 'capital-3.csv'}]})\n",
                "for path, rows in data.items():\n",
                "  pprint(path)\n",
                "  pprint(rows)"
            ],
            "execution_count": null,
            "outputs": [
                {
                    "output_type": "stream",
                    "text": [
                        "'country-3.csv'\n",
                        "[Row([('id', 1), ('capital_id', 1), ('name', 'Britain'), ('population', 67)]),\n",
                        " Row([('id', 2), ('capital_id', 3), ('name', 'France'), ('population', 67)]),\n",
                        " Row([('id', 3), ('capital_id', 2), ('name', 'Germany'), ('population', 83)]),\n",
                        " Row([('id', 4), ('capital_id', 5), ('name', 'Italy'), ('population', 60)]),\n",
                        " Row([('id', 5), ('capital_id', 4), ('name', 'Spain'), ('population', 47)])]\n",
                        "'capital-3.csv'\n",
                        "[Row([('id', 1), ('name', 'London')]),\n",
                        " Row([('id', 2), ('name', 'Berlin')]),\n",
                        " Row([('id', 3), ('name', 'Paris')]),\n",
                        " Row([('id', 4), ('name', 'Madrid')]),\n",
                        " Row([('id', 5), ('name', 'Rome')])]\n"
                    ],
                    "name": "stdout"
                }
            ]
        },
        {
            "cell_type": "markdown",
            "metadata": {
                "id": "5uMguA8LqLP6",
                "colab_type": "text"
            },
            "source": [
                "### Extracting Resource\n",
                "\n",
                "A resource contains only one file and for extracting a resource we can use the same approach we used above but providing only one file. We will extract data using a metadata descriptor:"
            ]
        },
        {
            "cell_type": "code",
            "metadata": {
                "id": "RXW_rGCJrFbQ",
                "colab_type": "code",
                "colab": {
                    "base_uri": "https://localhost:8080/",
                    "height": 101
                },
                "executionInfo": {
                    "status": "ok",
                    "timestamp": 1596175674717,
                    "user_tz": -180,
                    "elapsed": 642,
                    "user": {
                        "displayName": "Evgeny Karev",
                        "photoUrl": "",
                        "userId": "12160649330696878788"
                    }
                },
                "outputId": "f20fe304-ca7d-4c0d-bd24-a9e4aa5a59f9"
            },
            "source": [
                "from frictionless import extract_resource\n",
                "\n",
                "rows = extract_resource({'path': 'capital-3.csv'})\n",
                "pprint(rows)"
            ],
            "execution_count": null,
            "outputs": [
                {
                    "output_type": "stream",
                    "text": [
                        "[Row([('id', 1), ('name', 'London')]),\n",
                        " Row([('id', 2), ('name', 'Berlin')]),\n",
                        " Row([('id', 3), ('name', 'Paris')]),\n",
                        " Row([('id', 4), ('name', 'Madrid')]),\n",
                        " Row([('id', 5), ('name', 'Rome')])]\n"
                    ],
                    "name": "stdout"
                }
            ]
        },
        {
            "cell_type": "markdown",
            "metadata": {
                "id": "bVcT5zobsMkK",
                "colab_type": "text"
            },
            "source": [
                "Usually, the code above doesn't really make sense as we can just provide a path to the high-level `extract` function instead of a descriptor to the `extract_resource` function but the power of the descriptor is that it can contain different metadata and be stored on the disc. Let's extend our example:"
            ]
        },
        {
            "cell_type": "code",
            "metadata": {
                "id": "Sq2Roojdst1t",
                "colab_type": "code",
                "colab": {}
            },
            "source": [
                "from frictionless import Resource\n",
                "\n",
                "resource = Resource(path='capital-3.csv')\n",
                "resource.schema.missing_values.append('3')\n",
                "resource.to_yaml('capital.resource.yaml')"
            ],
            "execution_count": null,
            "outputs": []
        },
        {
            "cell_type": "code",
            "metadata": {
                "id": "7qnY2Fw3tBQv",
                "colab_type": "code",
                "colab": {
                    "base_uri": "https://localhost:8080/",
                    "height": 101
                },
                "executionInfo": {
                    "status": "ok",
                    "timestamp": 1596175689367,
                    "user_tz": -180,
                    "elapsed": 2093,
                    "user": {
                        "displayName": "Evgeny Karev",
                        "photoUrl": "",
                        "userId": "12160649330696878788"
                    }
                },
                "outputId": "23f1d004-d5ae-42f9-d3e7-e3af0698705a"
            },
            "source": [
                "! cat capital.resource.yaml"
            ],
            "execution_count": null,
            "outputs": [
                {
                    "output_type": "stream",
                    "text": [
                        "path: capital-3.csv\n",
                        "schema:\n",
                        "  missingValues:\n",
                        "    - ''\n",
                        "    - '3'\n"
                    ],
                    "name": "stdout"
                }
            ]
        },
        {
            "cell_type": "code",
            "metadata": {
                "id": "mIzHdATFtH2O",
                "colab_type": "code",
                "colab": {
                    "base_uri": "https://localhost:8080/",
                    "height": 168
                },
                "executionInfo": {
                    "status": "ok",
                    "timestamp": 1596175692687,
                    "user_tz": -180,
                    "elapsed": 2786,
                    "user": {
                        "displayName": "Evgeny Karev",
                        "photoUrl": "",
                        "userId": "12160649330696878788"
                    }
                },
                "outputId": "d6c46a45-f65e-42fb-9b8b-7bdeb781d979"
            },
            "source": [
                "! frictionless extract capital.resource.yaml"
            ],
            "execution_count": null,
            "outputs": [
                {
                    "output_type": "stream",
                    "text": [
                        "\u001b[1m[data] capital.resource.yaml\u001b[0m\n",
                        "\u001b[0m\n",
                        "  id  name\n",
                        "----  ------\n",
                        "   1  London\n",
                        "   2  Berlin\n",
                        "      Paris\n",
                        "   4  Madrid\n",
                        "   5  Rome\u001b[0m\n"
                    ],
                    "name": "stdout"
                }
            ]
        },
        {
            "cell_type": "markdown",
            "metadata": {
                "id": "kxXASn4etmGn",
                "colab_type": "text"
            },
            "source": [
                "So what's happened? We set textual representation of the number \"3\" to be a missing value. It was done only for the presentational purpose because it's definitely not a missing value. On the other hand, it demonstrated how metadata can be used. "
            ]
        },
        {
            "cell_type": "markdown",
            "metadata": {
                "id": "cNAOxsMCucc9",
                "colab_type": "text"
            },
            "source": [
                "### Extracting Table\n",
                "\n",
                "While the package and resource concepts contain both data and metadata, a table is solely data. Because of this fact we can provide much more options to the `extract_table` function. Most of this options are encapsulated into the resource descriptor as we saw with the `missingValues` example above. We will reproduce it:"
            ]
        },
        {
            "cell_type": "code",
            "metadata": {
                "id": "4kKW_TDXv-ib",
                "colab_type": "code",
                "colab": {
                    "base_uri": "https://localhost:8080/",
                    "height": 101
                },
                "executionInfo": {
                    "status": "ok",
                    "timestamp": 1596175699705,
                    "user_tz": -180,
                    "elapsed": 593,
                    "user": {
                        "displayName": "Evgeny Karev",
                        "photoUrl": "",
                        "userId": "12160649330696878788"
                    }
                },
                "outputId": "7a924af4-5640-4452-d410-a8de0e5e2083"
            },
            "source": [
                "from frictionless import extract_table\n",
                "\n",
                "rows = extract_table('capital-3.csv', patch_schema={'missingValues': ['', '3']})\n",
                "pprint(rows)"
            ],
            "execution_count": null,
            "outputs": [
                {
                    "output_type": "stream",
                    "text": [
                        "[Row([('id', 1), ('name', 'London')]),\n",
                        " Row([('id', 2), ('name', 'Berlin')]),\n",
                        " Row([('id', None), ('name', 'Paris')]),\n",
                        " Row([('id', 4), ('name', 'Madrid')]),\n",
                        " Row([('id', 5), ('name', 'Rome')])]\n"
                    ],
                    "name": "stdout"
                }
            ]
        },
        {
            "cell_type": "markdown",
            "metadata": {
                "id": "b06sYeJvw2Cv",
                "colab_type": "text"
            },
            "source": [
                "We got an identical result but it's important to understand that on the table level we need to provide all the metadata options separately while a resource encapsulate all these metadata. Please check the `extract_table` API Reference as it has a lot of options. We're going to discuss some of the below."
            ]
        },
        {
            "cell_type": "markdown",
            "metadata": {
                "id": "Bd_93BSv9WDX",
                "colab_type": "text"
            },
            "source": [
                "## Extraction Options\n",
                "\n",
                "All the `extract` fuction accept the only one common argument:\n",
                "- `process`: it's a function getting a row object and returning whatever is needed as an ouput of the data extraction e.g. `lambda row: row.to_dict()`\n"
            ]
        },
        {
            "cell_type": "markdown",
            "metadata": {
                "id": "oufvShST-Fpe",
                "colab_type": "text"
            },
            "source": [
                "**Package/Resource**\n",
                "\n",
                "These `extract` functions doesn't accept any additional arguments."
            ]
        },
        {
            "cell_type": "markdown",
            "metadata": {
                "id": "AeTNiL-i99U6",
                "colab_type": "text"
            },
            "source": [
                "**Table**\n",
                "\n",
                "We will take a loot at all the `extract_table` options in the sections below. As an overview, it accepts:\n",
                "- File Details\n",
                "- File Control\n",
                "- Table Dialect\n",
                "- Table Query\n",
                "- Header Options\n",
                "- Schema Options\n",
                "- Integrity Options\n",
                "- Infer Options (see \"Describing Data\")"
            ]
        },
        {
            "cell_type": "markdown",
            "metadata": {
                "id": "UjSzmWLWiWuo",
                "colab_type": "text"
            },
            "source": [
                "## Using Package\n",
                "\n",
                "The Package class is a metadata class which provides an ability to read its contents. First of all, let's create a package descriptor:"
            ]
        },
        {
            "cell_type": "code",
            "metadata": {
                "id": "xM7g5ZnWv_wx",
                "colab_type": "code",
                "colab": {}
            },
            "source": [
                "! frictionless describe *-3.csv --json > country.package.json"
            ],
            "execution_count": null,
            "outputs": []
        },
        {
            "cell_type": "markdown",
            "metadata": {
                "id": "rsJlpjoNwJFy",
                "colab_type": "text"
            },
            "source": [
                "Now, we can open the created descriptor and read the package's resources:"
            ]
        },
        {
            "cell_type": "code",
            "metadata": {
                "id": "DHwZCpmpwU38",
                "colab_type": "code",
                "colab": {
                    "base_uri": "https://localhost:8080/",
                    "height": 185
                },
                "executionInfo": {
                    "status": "ok",
                    "timestamp": 1596180317648,
                    "user_tz": -180,
                    "elapsed": 760,
                    "user": {
                        "displayName": "Evgeny Karev",
                        "photoUrl": "",
                        "userId": "12160649330696878788"
                    }
                },
                "outputId": "407722d6-9404-4247-e997-a8a0d29930dc"
            },
            "source": [
                "from frictionless import Package\n",
                "\n",
                "package = Package('country.package.json')\n",
                "pprint(package.get_resource('country-3').read_rows())\n",
                "pprint(package.get_resource('capital-3').read_rows())"
            ],
            "execution_count": null,
            "outputs": [
                {
                    "output_type": "stream",
                    "text": [
                        "[Row([('id', 1), ('capital_id', 1), ('name', 'Britain'), ('population', 67)]),\n",
                        " Row([('id', 2), ('capital_id', 3), ('name', 'France'), ('population', 67)]),\n",
                        " Row([('id', 3), ('capital_id', 2), ('name', 'Germany'), ('population', 83)]),\n",
                        " Row([('id', 4), ('capital_id', 5), ('name', 'Italy'), ('population', 60)]),\n",
                        " Row([('id', 5), ('capital_id', 4), ('name', 'Spain'), ('population', 47)])]\n",
                        "[Row([('id', 1), ('name', 'London')]),\n",
                        " Row([('id', 2), ('name', 'Berlin')]),\n",
                        " Row([('id', 3), ('name', 'Paris')]),\n",
                        " Row([('id', 4), ('name', 'Madrid')]),\n",
                        " Row([('id', 5), ('name', 'Rome')])]\n"
                    ],
                    "name": "stdout"
                }
            ]
        },
        {
            "cell_type": "markdown",
            "metadata": {
                "id": "eRgHVzdbw6Aq",
                "colab_type": "text"
            },
            "source": [
                "The package by itself doesn't provide any read functions directly as it's a role of its resources. So all the written below for the Resource class can be used withing a package.\n"
            ]
        },
        {
            "cell_type": "markdown",
            "metadata": {
                "id": "nAbbbJh1cNYK",
                "colab_type": "text"
            },
            "source": [
                "## Using Resource\n",
                "\n",
                "The Resource class is also a metadata class which provides various read and stream functions. Let's create a resource descriptor:"
            ]
        },
        {
            "cell_type": "code",
            "metadata": {
                "id": "XXZzHGOWxcG9",
                "colab_type": "code",
                "colab": {}
            },
            "source": [
                "! frictionless describe country-3.csv --json > country.resource.json"
            ],
            "execution_count": null,
            "outputs": []
        },
        {
            "cell_type": "markdown",
            "metadata": {
                "id": "CMgF0kibzbZ7",
                "colab_type": "text"
            },
            "source": [
                "**Exploring Data**\n",
                "\n",
                "There are various function helping to explore your resource as checking headers, and other attributes as stats:"
            ]
        },
        {
            "cell_type": "code",
            "metadata": {
                "id": "251ifJMAzf7G",
                "colab_type": "code",
                "colab": {
                    "base_uri": "https://localhost:8080/",
                    "height": 134
                },
                "executionInfo": {
                    "status": "ok",
                    "timestamp": 1596181120729,
                    "user_tz": -180,
                    "elapsed": 657,
                    "user": {
                        "displayName": "Evgeny Karev",
                        "photoUrl": "",
                        "userId": "12160649330696878788"
                    }
                },
                "outputId": "3faa77fe-03a9-46ff-919d-efb3b125c596"
            },
            "source": [
                "from frictionless import Resource\n",
                "\n",
                "resource = Resource('country.resource.json')\n",
                "pprint(resource.read_headers())\n",
                "pprint(resource.read_sample())\n",
                "pprint(resource.read_stats())"
            ],
            "execution_count": null,
            "outputs": [
                {
                    "output_type": "stream",
                    "text": [
                        "['id', 'capital_id', 'name', 'population']\n",
                        "[['1', '1', 'Britain', '67'],\n",
                        " ['2', '3', 'France', '67'],\n",
                        " ['3', '2', 'Germany', '83'],\n",
                        " ['4', '5', 'Italy', '60'],\n",
                        " ['5', '4', 'Spain', '47']]\n",
                        "{'bytes': 100, 'hash': 'c0558b91523683483f86f63346d06d81', 'rows': 5}\n"
                    ],
                    "name": "stdout"
                }
            ]
        },
        {
            "cell_type": "markdown",
            "metadata": {
                "id": "kkyyIHQcx61q",
                "colab_type": "text"
            },
            "source": [
                "**Reading Data**\n",
                "\n",
                "The `extract` functions always read rows into memory; Resource can do the same but it also gives a choice regarding ouput data. It can be `rows`, `data`, `text`, or `bytes`. Let's try reading all of them:"
            ]
        },
        {
            "cell_type": "code",
            "metadata": {
                "id": "YphJCTaGyaEp",
                "colab_type": "code",
                "colab": {
                    "base_uri": "https://localhost:8080/",
                    "height": 319
                },
                "executionInfo": {
                    "status": "ok",
                    "timestamp": 1596181114493,
                    "user_tz": -180,
                    "elapsed": 638,
                    "user": {
                        "displayName": "Evgeny Karev",
                        "photoUrl": "",
                        "userId": "12160649330696878788"
                    }
                },
                "outputId": "bd35f731-76cb-497c-d83c-bce3c8742fb6"
            },
            "source": [
                "from frictionless import Resource\n",
                "\n",
                "resource = Resource('country.resource.json')\n",
                "pprint(resource.read_bytes())\n",
                "pprint(resource.read_text())\n",
                "pprint(resource.read_data())\n",
                "pprint(resource.read_rows())"
            ],
            "execution_count": null,
            "outputs": [
                {
                    "output_type": "stream",
                    "text": [
                        "(b'id,capital_id,name,population\\n1,1,Britain,67\\n2,3,France,67\\n3,2,Germany,8'\n",
                        " b'3\\n4,5,Italy,60\\n5,4,Spain,47\\n')\n",
                        "('id,capital_id,name,population\\n'\n",
                        " '1,1,Britain,67\\n'\n",
                        " '2,3,France,67\\n'\n",
                        " '3,2,Germany,83\\n'\n",
                        " '4,5,Italy,60\\n'\n",
                        " '5,4,Spain,47\\n')\n",
                        "[['1', '1', 'Britain', '67'],\n",
                        " ['2', '3', 'France', '67'],\n",
                        " ['3', '2', 'Germany', '83'],\n",
                        " ['4', '5', 'Italy', '60'],\n",
                        " ['5', '4', 'Spain', '47']]\n",
                        "[Row([('id', 1), ('capital_id', 1), ('name', 'Britain'), ('population', 67)]),\n",
                        " Row([('id', 2), ('capital_id', 3), ('name', 'France'), ('population', 67)]),\n",
                        " Row([('id', 3), ('capital_id', 2), ('name', 'Germany'), ('population', 83)]),\n",
                        " Row([('id', 4), ('capital_id', 5), ('name', 'Italy'), ('population', 60)]),\n",
                        " Row([('id', 5), ('capital_id', 4), ('name', 'Spain'), ('population', 47)])]\n"
                    ],
                    "name": "stdout"
                }
            ]
        },
        {
            "cell_type": "markdown",
            "metadata": {
                "id": "nPjY4wjMz3vL",
                "colab_type": "text"
            },
            "source": [
                "**Streaming Data**\n",
                "\n",
                "It's really handy to read all your data into memory but it's not always possible as a file can be really big. For such cases, Frictionless provides streaming functions:"
            ]
        },
        {
            "cell_type": "code",
            "metadata": {
                "id": "QKiqdD-P0J4G",
                "colab_type": "code",
                "colab": {
                    "base_uri": "https://localhost:8080/",
                    "height": 168
                },
                "executionInfo": {
                    "status": "ok",
                    "timestamp": 1596181343368,
                    "user_tz": -180,
                    "elapsed": 604,
                    "user": {
                        "displayName": "Evgeny Karev",
                        "photoUrl": "",
                        "userId": "12160649330696878788"
                    }
                },
                "outputId": "47ef6b03-b1c9-4a1d-f096-23fb6d2207fa"
            },
            "source": [
                "from frictionless import Resource\n",
                "\n",
                "resource = Resource('country.resource.json')\n",
                "pprint(resource.read_byte_stream())\n",
                "pprint(resource.read_text_stream())\n",
                "pprint(resource.read_data_stream())\n",
                "pprint(resource.read_row_stream())\n",
                "for row in resource.read_row_stream():\n",
                "  print(row)"
            ],
            "execution_count": null,
            "outputs": [
                {
                    "output_type": "stream",
                    "text": [
                        "<frictionless.loader.ByteStreamWithStatsHandling object at 0x7fbee43266a0>\n",
                        "<_io.TextIOWrapper name='country-3.csv' encoding='utf-8'>\n",
                        "<generator object Resource.read_data_stream at 0x7fbee4299150>\n",
                        "<generator object Resource.read_row_stream at 0x7fbee4299150>\n",
                        "Row([('id', 1), ('capital_id', 1), ('name', 'Britain'), ('population', 67)])\n",
                        "Row([('id', 2), ('capital_id', 3), ('name', 'France'), ('population', 67)])\n",
                        "Row([('id', 3), ('capital_id', 2), ('name', 'Germany'), ('population', 83)])\n",
                        "Row([('id', 4), ('capital_id', 5), ('name', 'Italy'), ('population', 60)])\n",
                        "Row([('id', 5), ('capital_id', 4), ('name', 'Spain'), ('population', 47)])\n"
                    ],
                    "name": "stdout"
                }
            ]
        },
        {
            "cell_type": "markdown",
            "metadata": {
                "id": "NdVxS1fziLXV",
                "colab_type": "text"
            },
            "source": [
                "## Using Table\n",
                "\n",
                "The Table class is at heart of all the tabular capabilities of Frictionless. It's used by all the higher-level class and provides a comprehensive user interface by itself. The main difference with, for example, Resource class that Table has a state of a lower-level file descriptor and needs to be opened and closed. Usually we use a context manager (the `with` keyword) to work with Table. In-general, Table is a streaming interface that needs to be re-opened if data is already read.\n"
            ]
        },
        {
            "cell_type": "markdown",
            "metadata": {
                "id": "p_b9-ZNw3UEK",
                "colab_type": "text"
            },
            "source": [
                "**Exploring Data**\n",
                "\n",
                "First of all, let's take a look at the file details information:\n"
            ]
        },
        {
            "cell_type": "code",
            "metadata": {
                "id": "2ylXJwup3ZdF",
                "colab_type": "code",
                "colab": {
                    "base_uri": "https://localhost:8080/",
                    "height": 134
                },
                "executionInfo": {
                    "status": "ok",
                    "timestamp": 1596182393273,
                    "user_tz": -180,
                    "elapsed": 766,
                    "user": {
                        "displayName": "Evgeny Karev",
                        "photoUrl": "",
                        "userId": "12160649330696878788"
                    }
                },
                "outputId": "23dc6a74-c9c4-424a-edcc-5ffb85e034d8"
            },
            "source": [
                "from frictionless import Table\n",
                "\n",
                "with Table('capital-3.csv') as table:\n",
                "  print(f'Source: \"{table.source}\"')\n",
                "  print(f'Scheme: \"{table.scheme}\"')\n",
                "  print(f'Format: \"{table.format}\"')\n",
                "  print(f'Hashing: \"{table.hashing}\"')\n",
                "  print(f'Encoding: \"{table.encoding}\"')\n",
                "  print(f'Compression: \"{table.compression}\"')\n",
                "  print(f'Compression Path: \"{table.compression_path}\"')"
            ],
            "execution_count": null,
            "outputs": [
                {
                    "output_type": "stream",
                    "text": [
                        "Source: \"capital-3.csv\"\n",
                        "Scheme: \"file\"\n",
                        "Format: \"csv\"\n",
                        "Hashing: \"md5\"\n",
                        "Encoding: \"utf-8\"\n",
                        "Compression: \"no\"\n",
                        "Compression Path: \"\"\n"
                    ],
                    "name": "stdout"
                }
            ]
        },
        {
            "cell_type": "markdown",
            "metadata": {
                "id": "QVxThwtI5DwG",
                "colab_type": "text"
            },
            "source": [
                "There are much more information available; we will explain some of it later in the the sections below:"
            ]
        },
        {
            "cell_type": "code",
            "metadata": {
                "id": "qDD4axww5PtV",
                "colab_type": "code",
                "colab": {
                    "base_uri": "https://localhost:8080/",
                    "height": 134
                },
                "executionInfo": {
                    "status": "ok",
                    "timestamp": 1596182673532,
                    "user_tz": -180,
                    "elapsed": 678,
                    "user": {
                        "displayName": "Evgeny Karev",
                        "photoUrl": "",
                        "userId": "12160649330696878788"
                    }
                },
                "outputId": "a454abc6-120f-4a18-e2ed-2bb3caf89db1"
            },
            "source": [
                "from frictionless import Table\n",
                "\n",
                "with Table('capital-3.csv') as table:\n",
                "  print(f'Control: \"{table.control}\"')\n",
                "  print(f'Dialect: \"{table.dialect}\"')\n",
                "  print(f'Query: \"{table.query}\"')\n",
                "  print(f'Schema: \"{table.schema}\"')\n",
                "  print(f'Headers: \"{table.headers}\"')\n",
                "  print(f'Sample: \"{table.sample}\"')\n",
                "  print(f'Stats: \"{table.stats}\"')"
            ],
            "execution_count": null,
            "outputs": [
                {
                    "output_type": "stream",
                    "text": [
                        "Control: \"{}\"\n",
                        "Dialect: \"{}\"\n",
                        "Query: \"{}\"\n",
                        "Schema: \"{'fields': [{'name': 'id', 'type': 'integer'}, {'name': 'name', 'type': 'string'}]}\"\n",
                        "Headers: \"['id', 'name']\"\n",
                        "Sample: \"[['1', 'London'], ['2', 'Berlin'], ['3', 'Paris'], ['4', 'Madrid'], ['5', 'Rome']]\"\n",
                        "Stats: \"{'hash': 'e7b6592a0a4356ba834e4bf1c8e8c7f8', 'bytes': 50, 'rows': 0}\"\n"
                    ],
                    "name": "stdout"
                }
            ]
        },
        {
            "cell_type": "markdown",
            "metadata": {
                "id": "ETBdJInd53W4",
                "colab_type": "text"
            },
            "source": [
                "Many of the properties above not only can be read from the existent Table but also can be provided as an option to alter the Table behaviour, for example:"
            ]
        },
        {
            "cell_type": "code",
            "metadata": {
                "id": "VF8aaSeH6kP9",
                "colab_type": "code",
                "colab": {
                    "base_uri": "https://localhost:8080/",
                    "height": 67
                },
                "executionInfo": {
                    "status": "ok",
                    "timestamp": 1596182988072,
                    "user_tz": -180,
                    "elapsed": 623,
                    "user": {
                        "displayName": "Evgeny Karev",
                        "photoUrl": "",
                        "userId": "12160649330696878788"
                    }
                },
                "outputId": "8afca2c1-a0b3-4e84-8a97-9c39bc30553f"
            },
            "source": [
                "from frictionless import Table\n",
                "\n",
                "with Table('capital-3.csv', scheme='file', format='csv') as table:\n",
                "  print(table.source)\n",
                "  print(table.scheme)\n",
                "  print(table.format)"
            ],
            "execution_count": null,
            "outputs": [
                {
                    "output_type": "stream",
                    "text": [
                        "capital-3.csv\n",
                        "file\n",
                        "csv\n"
                    ],
                    "name": "stdout"
                }
            ]
        },
        {
            "cell_type": "markdown",
            "metadata": {
                "id": "xpuKx6F97H03",
                "colab_type": "text"
            },
            "source": [
                "**Reading Data**\n",
                "\n",
                "There are 2 different types of ouput that Table can produce:"
            ]
        },
        {
            "cell_type": "code",
            "metadata": {
                "id": "KBQgYRGW7Tha",
                "colab_type": "code",
                "colab": {
                    "base_uri": "https://localhost:8080/",
                    "height": 185
                },
                "executionInfo": {
                    "status": "ok",
                    "timestamp": 1596183257745,
                    "user_tz": -180,
                    "elapsed": 668,
                    "user": {
                        "displayName": "Evgeny Karev",
                        "photoUrl": "",
                        "userId": "12160649330696878788"
                    }
                },
                "outputId": "f99ba0a1-edeb-4727-b99a-174ff8e778d3"
            },
            "source": [
                "from frictionless import Table\n",
                "\n",
                "with Table('capital-3.csv') as table:\n",
                "  pprint(table.read_data())\n",
                "with Table('capital-3.csv') as table:\n",
                "  pprint(table.read_rows())"
            ],
            "execution_count": null,
            "outputs": [
                {
                    "output_type": "stream",
                    "text": [
                        "[['1', 'London'],\n",
                        " ['2', 'Berlin'],\n",
                        " ['3', 'Paris'],\n",
                        " ['4', 'Madrid'],\n",
                        " ['5', 'Rome']]\n",
                        "[Row([('id', 1), ('name', 'London')]),\n",
                        " Row([('id', 2), ('name', 'Berlin')]),\n",
                        " Row([('id', 3), ('name', 'Paris')]),\n",
                        " Row([('id', 4), ('name', 'Madrid')]),\n",
                        " Row([('id', 5), ('name', 'Rome')])]\n"
                    ],
                    "name": "stdout"
                }
            ]
        },
        {
            "cell_type": "markdown",
            "metadata": {
                "id": "jYaC5IUJ8Cal",
                "colab_type": "text"
            },
            "source": [
                "The `data` format is just a raw array of arrays similiar to JSON while the `row` format is rich object with all the cells normalized and converted to proper types. We will explore the Row class later. "
            ]
        },
        {
            "cell_type": "markdown",
            "metadata": {
                "id": "RvvxArty8kC5",
                "colab_type": "text"
            },
            "source": [
                "**Streaming Data**\n",
                "\n",
                "It was mentioned for Resource and it's the same for Table, we can stream our tabular data. The core difference is that Table is stateful so we use properties instead of the read functions:"
            ]
        },
        {
            "cell_type": "code",
            "metadata": {
                "id": "ymcBabLL81EW",
                "colab_type": "code",
                "colab": {
                    "base_uri": "https://localhost:8080/",
                    "height": 218
                },
                "executionInfo": {
                    "status": "ok",
                    "timestamp": 1596183556438,
                    "user_tz": -180,
                    "elapsed": 642,
                    "user": {
                        "displayName": "Evgeny Karev",
                        "photoUrl": "",
                        "userId": "12160649330696878788"
                    }
                },
                "outputId": "40ec3a4e-d882-4bfa-d58b-edb843141f53"
            },
            "source": [
                "from frictionless import Table\n",
                "\n",
                "with Table('capital-3.csv') as table:\n",
                "  pprint(table.data_stream)\n",
                "  for cells in table.data_stream:\n",
                "    print(cells)\n",
                "with Table('capital-3.csv') as table:\n",
                "  pprint(table.row_stream)\n",
                "  for row in table.row_stream:\n",
                "    print(row)"
            ],
            "execution_count": null,
            "outputs": [
                {
                    "output_type": "stream",
                    "text": [
                        "<generator object Table.__read_data_stream_create at 0x7fbee429ffc0>\n",
                        "['1', 'London']\n",
                        "['2', 'Berlin']\n",
                        "['3', 'Paris']\n",
                        "['4', 'Madrid']\n",
                        "['5', 'Rome']\n",
                        "<generator object Table.__read_row_stream_create at 0x7fbee4123c50>\n",
                        "Row([('id', 1), ('name', 'London')])\n",
                        "Row([('id', 2), ('name', 'Berlin')])\n",
                        "Row([('id', 3), ('name', 'Paris')])\n",
                        "Row([('id', 4), ('name', 'Madrid')])\n",
                        "Row([('id', 5), ('name', 'Rome')])\n"
                    ],
                    "name": "stdout"
                }
            ]
        },
        {
            "cell_type": "markdown",
            "metadata": {
                "id": "L4zjx-CT9ozP",
                "colab_type": "text"
            },
            "source": [
                "**Table's Lifecycle**\n",
                "\n",
                "You might probably have noticed that we had to duplicate the `with Table(...)` statement in some example. The reason is that Table is a streaming interface. Once it's read you need to open it again. Let's show it on example:"
            ]
        },
        {
            "cell_type": "code",
            "metadata": {
                "id": "wKnVIGTy-FRr",
                "colab_type": "code",
                "colab": {
                    "base_uri": "https://localhost:8080/",
                    "height": 202
                },
                "executionInfo": {
                    "status": "ok",
                    "timestamp": 1596183973071,
                    "user_tz": -180,
                    "elapsed": 619,
                    "user": {
                        "displayName": "Evgeny Karev",
                        "photoUrl": "",
                        "userId": "12160649330696878788"
                    }
                },
                "outputId": "3178ef56-6df9-48b3-facb-66e1abd87d0a"
            },
            "source": [
                "from frictionless import Table\n",
                "\n",
                "table = Table('capital-3.csv')\n",
                "table.open()\n",
                "pprint(table.read_rows())\n",
                "pprint(table.read_rows())\n",
                "# We need to re-open: there is no data left\n",
                "table.open()\n",
                "pprint(table.read_rows())\n",
                "# We need to close manually: not context manager is used\n",
                "table.close()"
            ],
            "execution_count": null,
            "outputs": [
                {
                    "output_type": "stream",
                    "text": [
                        "[Row([('id', 1), ('name', 'London')]),\n",
                        " Row([('id', 2), ('name', 'Berlin')]),\n",
                        " Row([('id', 3), ('name', 'Paris')]),\n",
                        " Row([('id', 4), ('name', 'Madrid')]),\n",
                        " Row([('id', 5), ('name', 'Rome')])]\n",
                        "[]\n",
                        "[Row([('id', 1), ('name', 'London')]),\n",
                        " Row([('id', 2), ('name', 'Berlin')]),\n",
                        " Row([('id', 3), ('name', 'Paris')]),\n",
                        " Row([('id', 4), ('name', 'Madrid')]),\n",
                        " Row([('id', 5), ('name', 'Rome')])]\n"
                    ],
                    "name": "stdout"
                }
            ]
        },
        {
            "cell_type": "markdown",
            "metadata": {
                "id": "mGbXC3JtxuQ5",
                "colab_type": "text"
            },
            "source": [
                "## File Details\n",
                "\n",
                "Let's overview the details we can specify for a file. Usually you don't need to provide those details as Frictionless is capable to infer it on its own. Although, there are situation when you need to specify it manually. The following example will use the `Table` class but the same options can be used for the `extract` and `extract_table` functions."
            ]
        },
        {
            "cell_type": "markdown",
            "metadata": {
                "id": "Qj7jJQ5Gy6jY",
                "colab_type": "text"
            },
            "source": [
                "**Scheme**\n",
                "\n",
                "The scheme also know as protocol indicates which loader Frictionless should use to read or write data. It can be `file` (default), `text`, `http`, `https`, `s3`, and others."
            ]
        },
        {
            "cell_type": "code",
            "metadata": {
                "id": "A3ur9w8wcn1v",
                "colab_type": "code",
                "colab": {
                    "base_uri": "https://localhost:8080/",
                    "height": 50
                },
                "executionInfo": {
                    "status": "ok",
                    "timestamp": 1596178563056,
                    "user_tz": -180,
                    "elapsed": 1163,
                    "user": {
                        "displayName": "Evgeny Karev",
                        "photoUrl": "",
                        "userId": "12160649330696878788"
                    }
                },
                "outputId": "23f1007a-d1b4-41a9-a312-9e1a867f222f"
            },
            "source": [
                "from frictionless import Table\n",
                "\n",
                "with Table('header1,header2\\nvalue1,value2.csv', scheme='text') as table:\n",
                "  print(table.scheme)\n",
                "  print(table.read_rows())"
            ],
            "execution_count": null,
            "outputs": [
                {
                    "output_type": "stream",
                    "text": [
                        "text\n",
                        "[Row([('header1', 'value1'), ('header2', 'value2.csv')])]\n"
                    ],
                    "name": "stdout"
                }
            ]
        },
        {
            "cell_type": "markdown",
            "metadata": {
                "id": "lidjg3L1y929",
                "colab_type": "text"
            },
            "source": [
                "**Format**\n",
                "\n",
                "The format or as it's also called extension helps Frictionless to choose a proper parser to handle the file. Popular formats are `csv`, `xlsx`, `json` and others"
            ]
        },
        {
            "cell_type": "code",
            "metadata": {
                "id": "U6AEOfeKhZCT",
                "colab_type": "code",
                "colab": {
                    "base_uri": "https://localhost:8080/",
                    "height": 50
                },
                "executionInfo": {
                    "status": "ok",
                    "timestamp": 1596178572913,
                    "user_tz": -180,
                    "elapsed": 1213,
                    "user": {
                        "displayName": "Evgeny Karev",
                        "photoUrl": "",
                        "userId": "12160649330696878788"
                    }
                },
                "outputId": "ef37dca7-3c3f-4a42-a1e8-3434971fb693"
            },
            "source": [
                "from frictionless import Table\n",
                "\n",
                "with Table('text://header1,header2\\nvalue1,value2.csv', format='csv') as table:\n",
                "  print(table.format)\n",
                "  print(table.read_rows())"
            ],
            "execution_count": null,
            "outputs": [
                {
                    "output_type": "stream",
                    "text": [
                        "csv\n",
                        "[Row([('header1', 'value1'), ('header2', 'value2.csv')])]\n"
                    ],
                    "name": "stdout"
                }
            ]
        },
        {
            "cell_type": "markdown",
            "metadata": {
                "id": "neCsZLAOhe1H",
                "colab_type": "text"
            },
            "source": [
                "**Hashing**\n",
                "\n",
                "The hashing option controls which hashing algorithm should be used for generating the `hash` property. It doesn't affect the `extract` function but can be used with the `Table` class:"
            ]
        },
        {
            "cell_type": "code",
            "metadata": {
                "id": "IakiUl26nMCD",
                "colab_type": "code",
                "colab": {
                    "base_uri": "https://localhost:8080/",
                    "height": 50
                },
                "executionInfo": {
                    "status": "ok",
                    "timestamp": 1596177890642,
                    "user_tz": -180,
                    "elapsed": 640,
                    "user": {
                        "displayName": "Evgeny Karev",
                        "photoUrl": "",
                        "userId": "12160649330696878788"
                    }
                },
                "outputId": "1e254e83-6192-4cf4-aaf8-0dbe7adcef4d"
            },
            "source": [
                "from frictionless import Table\n",
                "\n",
                "with Table('country-3.csv', hashing='sha256') as table:\n",
                "  table.read_rows()\n",
                "  print(table.hashing)\n",
                "  print(table.stats['hash'])"
            ],
            "execution_count": null,
            "outputs": [
                {
                    "output_type": "stream",
                    "text": [
                        "sha256\n",
                        "408b5058f961915c1e1f3bc318ab01d7d094a4daccdf03ad6022cfc7b8ea4e3e\n"
                    ],
                    "name": "stdout"
                }
            ]
        },
        {
            "cell_type": "markdown",
            "metadata": {
                "id": "X2hyKZlqhjGe",
                "colab_type": "text"
            },
            "source": [
                "**Encoding**\n",
                "\n",
                "Frictionless automatically detects encoding of files but sometimes it can be innacurate. It's possible to provide an encoding manually:"
            ]
        },
        {
            "cell_type": "code",
            "metadata": {
                "id": "xJ6NYWuvn5qB",
                "colab_type": "code",
                "colab": {
                    "base_uri": "https://localhost:8080/",
                    "height": 50
                },
                "executionInfo": {
                    "status": "ok",
                    "timestamp": 1596179207109,
                    "user_tz": -180,
                    "elapsed": 667,
                    "user": {
                        "displayName": "Evgeny Karev",
                        "photoUrl": "",
                        "userId": "12160649330696878788"
                    }
                },
                "outputId": "79a5a42b-c4fa-4748-e24e-1dbe48112718"
            },
            "source": [
                "from frictionless import Table\n",
                "\n",
                "with Table('country-3.csv', encoding='utf-8') as table:\n",
                "  print(table.encoding)\n",
                "  print(table.source)"
            ],
            "execution_count": null,
            "outputs": [
                {
                    "output_type": "stream",
                    "text": [
                        "country-3.csv\n",
                        "utf-8\n"
                    ],
                    "name": "stdout"
                }
            ]
        },
        {
            "cell_type": "markdown",
            "metadata": {
                "id": "r5RveymthnqR",
                "colab_type": "text"
            },
            "source": [
                "**Compression**\n",
                "\n",
                "It's possible to adjust compression detection by providing the algorithm explicetely. For the example below it's not required as it would be detected anyway:"
            ]
        },
        {
            "cell_type": "code",
            "metadata": {
                "id": "26sXEcZUtJmY",
                "colab_type": "code",
                "colab": {}
            },
            "source": [
                "! wget -q -O table.csv.zip https://raw.githubusercontent.com/frictionlessdata/frictionless-py/master/data/table.csv.zip"
            ],
            "execution_count": null,
            "outputs": []
        },
        {
            "cell_type": "code",
            "metadata": {
                "id": "_A9531eytqN2",
                "colab_type": "code",
                "colab": {
                    "base_uri": "https://localhost:8080/",
                    "height": 50
                },
                "executionInfo": {
                    "status": "ok",
                    "timestamp": 1596179654492,
                    "user_tz": -180,
                    "elapsed": 1004,
                    "user": {
                        "displayName": "Evgeny Karev",
                        "photoUrl": "",
                        "userId": "12160649330696878788"
                    }
                },
                "outputId": "4e333fe2-605b-411d-ef3d-479cf0387df5"
            },
            "source": [
                "from frictionless import Table\n",
                "\n",
                "with Table('table.csv.zip', compression='zip') as table:\n",
                "  print(table.compression)\n",
                "  print(table.read_rows())"
            ],
            "execution_count": null,
            "outputs": [
                {
                    "output_type": "stream",
                    "text": [
                        "zip\n",
                        "[Row([('id', 1), ('name', 'english')]), Row([('id', 2), ('name', '\u4e2d\u56fd\u4eba')])]\n"
                    ],
                    "name": "stdout"
                }
            ]
        },
        {
            "cell_type": "markdown",
            "metadata": {
                "id": "ayew0qWyhr0U",
                "colab_type": "text"
            },
            "source": [
                "**Compression Path**\n",
                "\n",
                "By default, Frictionless uses the first file found in a zip archive. It's possible to adjust this behaviour:"
            ]
        },
        {
            "cell_type": "code",
            "metadata": {
                "id": "N5XGmItEucg0",
                "colab_type": "code",
                "colab": {}
            },
            "source": [
                "! wget -q -O table-multiple-files.zip https://raw.githubusercontent.com/frictionlessdata/frictionless-py/master/data/table-multiple-files.zip"
            ],
            "execution_count": null,
            "outputs": []
        },
        {
            "cell_type": "code",
            "metadata": {
                "id": "qb3ni07JuqDw",
                "colab_type": "code",
                "colab": {
                    "base_uri": "https://localhost:8080/",
                    "height": 67
                },
                "executionInfo": {
                    "status": "ok",
                    "timestamp": 1596179885641,
                    "user_tz": -180,
                    "elapsed": 615,
                    "user": {
                        "displayName": "Evgeny Karev",
                        "photoUrl": "",
                        "userId": "12160649330696878788"
                    }
                },
                "outputId": "e67ab6a1-0576-4e83-a2fa-9b11d60034a0"
            },
            "source": [
                "from frictionless import Table\n",
                "\n",
                "with Table('table-multiple-files.zip', compression_path='table-reverse.csv') as table:\n",
                "  print(table.compression)\n",
                "  print(table.compression_path)\n",
                "  print(table.read_rows())"
            ],
            "execution_count": null,
            "outputs": [
                {
                    "output_type": "stream",
                    "text": [
                        "zip\n",
                        "table-reverse.csv\n",
                        "[Row([('id', 1), ('name', '\u4e2d\u56fd\u4eba')]), Row([('id', 2), ('name', 'english')])]\n"
                    ],
                    "name": "stdout"
                }
            ]
        },
        {
            "cell_type": "markdown",
            "metadata": {
                "id": "kXHvm52whIWc",
                "colab_type": "text"
            },
            "source": [
                "Further reading:\n",
                "- Schemes Reference\n",
                "- Formats Reference"
            ]
        },
        {
            "cell_type": "markdown",
            "metadata": {
                "id": "UwW0UWAbh_Do",
                "colab_type": "text"
            },
            "source": [
                "## File Control\n",
                "\n",
                "The Control object allows you to manage the loader used by the Table class. In most cases, you don't need to provide any Control settings but sometimes it can be useful:"
            ]
        },
        {
            "cell_type": "code",
            "metadata": {
                "id": "L5lWFBDDBgZY",
                "colab_type": "code",
                "colab": {
                    "base_uri": "https://localhost:8080/",
                    "height": 50
                },
                "executionInfo": {
                    "status": "ok",
                    "timestamp": 1596184995513,
                    "user_tz": -180,
                    "elapsed": 645,
                    "user": {
                        "displayName": "Evgeny Karev",
                        "photoUrl": "",
                        "userId": "12160649330696878788"
                    }
                },
                "outputId": "75b0a2b8-e77f-48c3-ab5f-719f160f6a3f"
            },
            "source": [
                "from frictionless import Table, controls\n",
                "\n",
                "source = 'https://raw.githubusercontent.com/frictionlessdata/frictionless-py/master/data/table.csv'\n",
                "control = controls.RemoteControl(http_timeout=1)\n",
                "with Table(source, control=control) as table:\n",
                "  print(table.control)\n",
                "  print(table.read_rows())"
            ],
            "execution_count": null,
            "outputs": [
                {
                    "output_type": "stream",
                    "text": [
                        "{'httpTimeout': 1}\n",
                        "[Row([('id', 1), ('name', 'english')]), Row([('id', 2), ('name', '\u4e2d\u56fd\u4eba')])]\n"
                    ],
                    "name": "stdout"
                }
            ]
        },
        {
            "cell_type": "markdown",
            "metadata": {
                "id": "lku_yTyTCsIh",
                "colab_type": "text"
            },
            "source": [
                "Exact parameters depend on schemes and can be found in the \"Schemes Reference\". For example, the Remote Control provides `http_timeout`, `http_session`, and others but there is only one option available for all controls:"
            ]
        },
        {
            "cell_type": "markdown",
            "metadata": {
                "id": "NK9MkYKqDIEG",
                "colab_type": "text"
            },
            "source": [
                "**Detect Encoding**\n",
                "\n",
                "It's a function that can be provided to adjust the encoding detection. This function accept a data sample and return a detected encoding:"
            ]
        },
        {
            "cell_type": "code",
            "metadata": {
                "id": "6DJgECx3DP1O",
                "colab_type": "code",
                "colab": {
                    "base_uri": "https://localhost:8080/",
                    "height": 50
                },
                "executionInfo": {
                    "status": "ok",
                    "timestamp": 1596185258233,
                    "user_tz": -180,
                    "elapsed": 1186,
                    "user": {
                        "displayName": "Evgeny Karev",
                        "photoUrl": "",
                        "userId": "12160649330696878788"
                    }
                },
                "outputId": "d417c976-ae3d-46b4-c336-b9b7abdca462"
            },
            "source": [
                "from frictionless import Table, controls\n",
                "\n",
                "control = controls.Control(detect_encoding=lambda sample: \"utf-8\")\n",
                "with Table(\"capital-3.csv\", control=control) as table:\n",
                "  print(table.source)\n",
                "  print(table.encoding)"
            ],
            "execution_count": null,
            "outputs": [
                {
                    "output_type": "stream",
                    "text": [
                        "capital-3.csv\n",
                        "utf-8\n"
                    ],
                    "name": "stdout"
                }
            ]
        },
        {
            "cell_type": "markdown",
            "metadata": {
                "id": "4eJBrRhICobk",
                "colab_type": "text"
            },
            "source": [
                "Further reading:\n",
                "- Schemes Reference"
            ]
        },
        {
            "cell_type": "markdown",
            "metadata": {
                "id": "DQqHOx_qx6oK",
                "colab_type": "text"
            },
            "source": [
                "## Table Dialect\n",
                "\n",
                "The Dialect adjust the way tabular parsers work. The concept is similiar to the Control above. Let's use the CSV Dialect to adjust the delimiter configuration:"
            ]
        },
        {
            "cell_type": "code",
            "metadata": {
                "id": "d1ILQvxWNs0p",
                "colab_type": "code",
                "colab": {
                    "base_uri": "https://localhost:8080/",
                    "height": 50
                },
                "executionInfo": {
                    "status": "ok",
                    "timestamp": 1596188015086,
                    "user_tz": -180,
                    "elapsed": 637,
                    "user": {
                        "displayName": "Evgeny Karev",
                        "photoUrl": "",
                        "userId": "12160649330696878788"
                    }
                },
                "outputId": "07b2bb61-f353-408f-e6d6-23df34018e09"
            },
            "source": [
                "from frictionless import Table, dialects\n",
                "\n",
                "source = 'header1;header2\\nvalue1;value2'\n",
                "dialect = dialects.CsvDialect(delimiter=';')\n",
                "with Table(source, scheme='text', format='csv', dialect=dialect) as table:\n",
                "  print(table.dialect)\n",
                "  print(table.read_rows())"
            ],
            "execution_count": null,
            "outputs": [
                {
                    "output_type": "stream",
                    "text": [
                        "{'delimiter': ';'}\n",
                        "[Row([('header1', 'value1'), ('header2', 'value2')])]\n"
                    ],
                    "name": "stdout"
                }
            ]
        },
        {
            "cell_type": "markdown",
            "metadata": {
                "id": "JsdMITowOZsg",
                "colab_type": "text"
            },
            "source": [
                "There is a great deal of options available for different dialect that can be found in \"Formats Reference\". We will list the properties that can be used with every dialect:"
            ]
        },
        {
            "cell_type": "markdown",
            "metadata": {
                "id": "62cH_u53Oo19",
                "colab_type": "text"
            },
            "source": [
                "**Header**\n",
                "\n",
                "It's a boolean flag wich deaults to `True` indicating whether the data has a header row or not. In the following example the header row will be treated as a data row:"
            ]
        },
        {
            "cell_type": "code",
            "metadata": {
                "id": "Vj5pBdCWCYtV",
                "colab_type": "code",
                "colab": {
                    "base_uri": "https://localhost:8080/",
                    "height": 134
                },
                "executionInfo": {
                    "status": "ok",
                    "timestamp": 1596202021923,
                    "user_tz": -180,
                    "elapsed": 732,
                    "user": {
                        "displayName": "Evgeny Karev",
                        "photoUrl": "",
                        "userId": "12160649330696878788"
                    }
                },
                "outputId": "be3ba218-1a5f-49bb-ce2c-38aa83ff56f2"
            },
            "source": [
                "from frictionless import Table, dialects\n",
                "\n",
                "dialect = dialects.Dialect(header=False)\n",
                "with Table('capital-3.csv', dialect=dialect) as table:\n",
                "  pprint(table.headers)\n",
                "  pprint(table.read_rows())"
            ],
            "execution_count": null,
            "outputs": [
                {
                    "output_type": "stream",
                    "text": [
                        "[]\n",
                        "[Row([('field1', 'id'), ('field2', 'name')]),\n",
                        " Row([('field1', '1'), ('field2', 'London')]),\n",
                        " Row([('field1', '2'), ('field2', 'Berlin')]),\n",
                        " Row([('field1', '3'), ('field2', 'Paris')]),\n",
                        " Row([('field1', '4'), ('field2', 'Madrid')]),\n",
                        " Row([('field1', '5'), ('field2', 'Rome')])]\n"
                    ],
                    "name": "stdout"
                }
            ]
        },
        {
            "cell_type": "markdown",
            "metadata": {
                "id": "3t9X4LlrOsIk",
                "colab_type": "text"
            },
            "source": [
                "**Header Rows**\n",
                "\n",
                "If header is `True` which is default, this parameters indicates where to find the header row or header rows for a multiline header. Let's see on example how the first two data rows can be treated as a part of a header:"
            ]
        },
        {
            "cell_type": "code",
            "metadata": {
                "id": "Er594FiKDV7J",
                "colab_type": "code",
                "colab": {
                    "base_uri": "https://localhost:8080/",
                    "height": 84
                },
                "executionInfo": {
                    "status": "ok",
                    "timestamp": 1596202059699,
                    "user_tz": -180,
                    "elapsed": 579,
                    "user": {
                        "displayName": "Evgeny Karev",
                        "photoUrl": "",
                        "userId": "12160649330696878788"
                    }
                },
                "outputId": "4300bbde-b964-4052-954e-a5d13ddd6f9b"
            },
            "source": [
                "from frictionless import Table, dialects\n",
                "\n",
                "dialect = dialects.Dialect(header_rows=[1, 2, 3])\n",
                "with Table('capital-3.csv', dialect=dialect) as table:\n",
                "  pprint(table.headers)\n",
                "  pprint(table.read_rows())"
            ],
            "execution_count": null,
            "outputs": [
                {
                    "output_type": "stream",
                    "text": [
                        "['id 1 2', 'name London Berlin']\n",
                        "[Row([('id 1 2', 3), ('name London Berlin', 'Paris')]),\n",
                        " Row([('id 1 2', 4), ('name London Berlin', 'Madrid')]),\n",
                        " Row([('id 1 2', 5), ('name London Berlin', 'Rome')])]\n"
                    ],
                    "name": "stdout"
                }
            ]
        },
        {
            "cell_type": "markdown",
            "metadata": {
                "id": "ByXWRP5LOuc8",
                "colab_type": "text"
            },
            "source": [
                "**Header Join**\n",
                "\n",
                "If there are multiple header rows which is managed by `header_rows` parameter, we can set a string to be a separator for a header's cell join operation. Usually it's very handy for some \"fancy\" Excel files. For the sake of simplicity, we will show on a CSV file:"
            ]
        },
        {
            "cell_type": "code",
            "metadata": {
                "id": "vwXNgV7PEGuK",
                "colab_type": "code",
                "colab": {
                    "base_uri": "https://localhost:8080/",
                    "height": 84
                },
                "executionInfo": {
                    "status": "ok",
                    "timestamp": 1596202202823,
                    "user_tz": -180,
                    "elapsed": 622,
                    "user": {
                        "displayName": "Evgeny Karev",
                        "photoUrl": "",
                        "userId": "12160649330696878788"
                    }
                },
                "outputId": "cf48f38f-3c84-42db-83c0-698e75b1dde7"
            },
            "source": [
                "from frictionless import Table, dialects\n",
                "\n",
                "dialect = dialects.Dialect(header_rows=[1, 2, 3], header_join='/')\n",
                "with Table('capital-3.csv', dialect=dialect) as table:\n",
                "  pprint(table.headers)\n",
                "  pprint(table.read_rows())"
            ],
            "execution_count": null,
            "outputs": [
                {
                    "output_type": "stream",
                    "text": [
                        "['id/1/2', 'name/London/Berlin']\n",
                        "[Row([('id/1/2', 3), ('name/London/Berlin', 'Paris')]),\n",
                        " Row([('id/1/2', 4), ('name/London/Berlin', 'Madrid')]),\n",
                        " Row([('id/1/2', 5), ('name/London/Berlin', 'Rome')])]\n"
                    ],
                    "name": "stdout"
                }
            ]
        },
        {
            "cell_type": "markdown",
            "metadata": {
                "id": "2wCyxOc9ORoe",
                "colab_type": "text"
            },
            "source": [
                "Further reading:\n",
                "- Formats Reference"
            ]
        },
        {
            "cell_type": "markdown",
            "metadata": {
                "id": "mt6TqSTlyAxb",
                "colab_type": "text"
            },
            "source": [
                "## Table Query\n",
                "\n",
                "Using header management described in the \"Table Dialect\" section we can have a basic skipping rows ability e.g. if we set `dialect.header_rows=[2]` we will skip the first row but it's very limited. There is a much more powerful interface called Table Queries to indicate where exactly to get tabular data from a file. We will use a simple file looking like a matrix:"
            ]
        },
        {
            "cell_type": "code",
            "metadata": {
                "id": "FdImYWlTKBw8",
                "colab_type": "code",
                "colab": {
                    "base_uri": "https://localhost:8080/",
                    "height": 101
                },
                "executionInfo": {
                    "status": "ok",
                    "timestamp": 1596203764185,
                    "user_tz": -180,
                    "elapsed": 3495,
                    "user": {
                        "displayName": "Evgeny Karev",
                        "photoUrl": "",
                        "userId": "12160649330696878788"
                    }
                },
                "outputId": "5b11e18c-e83e-40a4-f9d3-ccf2e3a4f36e"
            },
            "source": [
                "! wget -q -O matrix.csv https://raw.githubusercontent.com/frictionlessdata/frictionless-py/master/data/matrix.csv\n",
                "! cat matrix.csv"
            ],
            "execution_count": null,
            "outputs": [
                {
                    "output_type": "stream",
                    "text": [
                        "f1,f2,f3,f4\n",
                        "11,12,13,14\n",
                        "21,22,23,24\n",
                        "31,32,33,34\n",
                        "41,42,43,44\n"
                    ],
                    "name": "stdout"
                }
            ]
        },
        {
            "cell_type": "markdown",
            "metadata": {
                "id": "RhiyAx6TL6bf",
                "colab_type": "text"
            },
            "source": [
                "**Pick/Skip Fields**\n",
                "\n",
                "We can pick and skip arbitrary fields based on a header row. These options accept a list of field numbers, a list of strings or a regex to match. All the queries below do the same thing for this file:"
            ]
        },
        {
            "cell_type": "code",
            "metadata": {
                "id": "UpXUkg1aMK9a",
                "colab_type": "code",
                "colab": {
                    "base_uri": "https://localhost:8080/",
                    "height": 138
                },
                "executionInfo": {
                    "status": "ok",
                    "timestamp": 1596204744334,
                    "user_tz": -180,
                    "elapsed": 720,
                    "user": {
                        "displayName": "Evgeny Karev",
                        "photoUrl": "",
                        "userId": "12160649330696878788"
                    }
                },
                "outputId": "fe629bf9-d4b1-42aa-c125-8c641af3e24a"
            },
            "source": [
                "from frictionless import extract, Query\n",
                "\n",
                "print(extract('matrix.csv', query=Query(pick_fields=[2, 3])))\n",
                "print(extract('matrix.csv', query=Query(skip_fields=[1, 4])))\n",
                "print(extract('matrix.csv', query=Query(pick_fields=['f2', 'f3'])))\n",
                "print(extract('matrix.csv', query=Query(skip_fields=['f1', 'f4'])))\n",
                "print(extract('matrix.csv', query=Query(pick_fields=['<regex>f[23]'])))\n",
                "print(extract('matrix.csv', query=Query(skip_fields=['<regex>f[14]'])))"
            ],
            "execution_count": null,
            "outputs": [
                {
                    "output_type": "stream",
                    "text": [
                        "[Row([('f2', 12), ('f3', 13)]), Row([('f2', 22), ('f3', 23)]), Row([('f2', 32), ('f3', 33)]), Row([('f2', 42), ('f3', 43)])]\n",
                        "[Row([('f2', 12), ('f3', 13)]), Row([('f2', 22), ('f3', 23)]), Row([('f2', 32), ('f3', 33)]), Row([('f2', 42), ('f3', 43)])]\n",
                        "[Row([('f2', 12), ('f3', 13)]), Row([('f2', 22), ('f3', 23)]), Row([('f2', 32), ('f3', 33)]), Row([('f2', 42), ('f3', 43)])]\n",
                        "[Row([('f2', 12), ('f3', 13)]), Row([('f2', 22), ('f3', 23)]), Row([('f2', 32), ('f3', 33)]), Row([('f2', 42), ('f3', 43)])]\n",
                        "[Row([('f2', 12), ('f3', 13)]), Row([('f2', 22), ('f3', 23)]), Row([('f2', 32), ('f3', 33)]), Row([('f2', 42), ('f3', 43)])]\n",
                        "[Row([('f2', 12), ('f3', 13)]), Row([('f2', 22), ('f3', 23)]), Row([('f2', 32), ('f3', 33)]), Row([('f2', 42), ('f3', 43)])]\n"
                    ],
                    "name": "stdout"
                }
            ]
        },
        {
            "cell_type": "markdown",
            "metadata": {
                "id": "qy4i65WsOV37",
                "colab_type": "text"
            },
            "source": [
                "**Limit/Offset Fields**\n",
                "\n",
                "There are two options that provide an ability to limit amount of fields similiar to SQL's directives:"
            ]
        },
        {
            "cell_type": "code",
            "metadata": {
                "id": "4_uK72xMOqdz",
                "colab_type": "code",
                "colab": {
                    "base_uri": "https://localhost:8080/",
                    "height": 70
                },
                "executionInfo": {
                    "status": "ok",
                    "timestamp": 1596204994247,
                    "user_tz": -180,
                    "elapsed": 616,
                    "user": {
                        "displayName": "Evgeny Karev",
                        "photoUrl": "",
                        "userId": "12160649330696878788"
                    }
                },
                "outputId": "b6a9588a-d1cb-45b5-a3b0-cef838452ed9"
            },
            "source": [
                "from frictionless import extract, Query\n",
                "\n",
                "print(extract('matrix.csv', query=Query(limit_fields=2)))\n",
                "print(extract('matrix.csv', query=Query(offset_fields=2)))"
            ],
            "execution_count": null,
            "outputs": [
                {
                    "output_type": "stream",
                    "text": [
                        "[Row([('f1', 11), ('f2', 12)]), Row([('f1', 21), ('f2', 22)]), Row([('f1', 31), ('f2', 32)]), Row([('f1', 41), ('f2', 42)])]\n",
                        "[Row([('f3', 13), ('f4', 14)]), Row([('f3', 23), ('f4', 24)]), Row([('f3', 33), ('f4', 34)]), Row([('f3', 43), ('f4', 44)])]\n"
                    ],
                    "name": "stdout"
                }
            ]
        },
        {
            "cell_type": "markdown",
            "metadata": {
                "id": "88rNrdo6PAfN",
                "colab_type": "text"
            },
            "source": [
                "**Pick/Skip Rows**\n",
                "\n",
                "It's alike the field counterparts but it will be compared to the first cell of a row. All the queries below do the same thing for this file but take into account that when picking we need to also pick a header row. In addition, there is special value `<blank>` that matches a row if it's competely blank:"
            ]
        },
        {
            "cell_type": "code",
            "metadata": {
                "id": "ygXQxZ6RPZWC",
                "colab_type": "code",
                "colab": {
                    "base_uri": "https://localhost:8080/",
                    "height": 154
                },
                "executionInfo": {
                    "status": "ok",
                    "timestamp": 1596205491567,
                    "user_tz": -180,
                    "elapsed": 626,
                    "user": {
                        "displayName": "Evgeny Karev",
                        "photoUrl": "",
                        "userId": "12160649330696878788"
                    }
                },
                "outputId": "0656b0ed-b780-40c3-e3e1-babdd10706c0"
            },
            "source": [
                "from frictionless import extract, Query\n",
                "\n",
                "print(extract('matrix.csv', query=Query(pick_rows=[1, 3, 4])))\n",
                "print(extract('matrix.csv', query=Query(skip_rows=[2, 5])))\n",
                "print(extract('matrix.csv', query=Query(pick_rows=['f1', '21', '31'])))\n",
                "print(extract('matrix.csv', query=Query(skip_rows=['11', '41'])))\n",
                "print(extract('matrix.csv', query=Query(pick_rows=['<regex>(f1|[23]1)'])))\n",
                "print(extract('matrix.csv', query=Query(skip_rows=['<regex>[14]1'])))\n",
                "print(extract('matrix.csv', query=Query(pick_rows=['<blank>'])))"
            ],
            "execution_count": null,
            "outputs": [
                {
                    "output_type": "stream",
                    "text": [
                        "[Row([('f1', 21), ('f2', 22), ('f3', 23), ('f4', 24)]), Row([('f1', 31), ('f2', 32), ('f3', 33), ('f4', 34)])]\n",
                        "[Row([('f1', 21), ('f2', 22), ('f3', 23), ('f4', 24)]), Row([('f1', 31), ('f2', 32), ('f3', 33), ('f4', 34)])]\n",
                        "[Row([('f1', 21), ('f2', 22), ('f3', 23), ('f4', 24)]), Row([('f1', 31), ('f2', 32), ('f3', 33), ('f4', 34)])]\n",
                        "[Row([('f1', 21), ('f2', 22), ('f3', 23), ('f4', 24)]), Row([('f1', 31), ('f2', 32), ('f3', 33), ('f4', 34)])]\n",
                        "[Row([('f1', 21), ('f2', 22), ('f3', 23), ('f4', 24)]), Row([('f1', 31), ('f2', 32), ('f3', 33), ('f4', 34)])]\n",
                        "[Row([('f1', 21), ('f2', 22), ('f3', 23), ('f4', 24)]), Row([('f1', 31), ('f2', 32), ('f3', 33), ('f4', 34)])]\n",
                        "[]\n"
                    ],
                    "name": "stdout"
                }
            ]
        },
        {
            "cell_type": "markdown",
            "metadata": {
                "id": "zKvCthj-Q3lP",
                "colab_type": "text"
            },
            "source": [
                "**Limit/Offset Rows**\n",
                "\n",
                "It's a quite popular option used to limit amount of rows to read:"
            ]
        },
        {
            "cell_type": "code",
            "metadata": {
                "id": "NfDqIlwFRE7t",
                "colab_type": "code",
                "colab": {
                    "base_uri": "https://localhost:8080/",
                    "height": 70
                },
                "executionInfo": {
                    "status": "ok",
                    "timestamp": 1596205645053,
                    "user_tz": -180,
                    "elapsed": 1108,
                    "user": {
                        "displayName": "Evgeny Karev",
                        "photoUrl": "",
                        "userId": "12160649330696878788"
                    }
                },
                "outputId": "5811eba6-f076-4829-b658-94910e5efa15"
            },
            "source": [
                "from frictionless import extract, Query\n",
                "\n",
                "print(extract('matrix.csv', query=Query(limit_rows=2)))\n",
                "print(extract('matrix.csv', query=Query(offset_rows=2)))"
            ],
            "execution_count": null,
            "outputs": [
                {
                    "output_type": "stream",
                    "text": [
                        "[Row([('f1', 11), ('f2', 12), ('f3', 13), ('f4', 14)]), Row([('f1', 21), ('f2', 22), ('f3', 23), ('f4', 24)])]\n",
                        "[Row([('f1', 31), ('f2', 32), ('f3', 33), ('f4', 34)]), Row([('f1', 41), ('f2', 42), ('f3', 43), ('f4', 44)])]\n"
                    ],
                    "name": "stdout"
                }
            ]
        },
        {
            "cell_type": "markdown",
            "metadata": {
                "id": "MHVoO9_oFCtl",
                "colab_type": "text"
            },
            "source": [
                "## Header Options\n",
                "\n",
                "Header management is a responsibility of \"Table Dialect\" which will be described below but Table accept a special `headers` argument that plays a role of a high-level helper in setting different header options.\n"
            ]
        },
        {
            "cell_type": "markdown",
            "metadata": {
                "id": "-FVfxJxCHdAI",
                "colab_type": "text"
            },
            "source": [
                "It accepts a `False` values indicating that there is no header row:"
            ]
        },
        {
            "cell_type": "code",
            "metadata": {
                "id": "wDZjBYtKHnMP",
                "colab_type": "code",
                "colab": {
                    "base_uri": "https://localhost:8080/",
                    "height": 134
                },
                "executionInfo": {
                    "status": "ok",
                    "timestamp": 1596203131055,
                    "user_tz": -180,
                    "elapsed": 643,
                    "user": {
                        "displayName": "Evgeny Karev",
                        "photoUrl": "",
                        "userId": "12160649330696878788"
                    }
                },
                "outputId": "5d7835ef-e30e-42e7-d7f0-02a8ff24302d"
            },
            "source": [
                "from frictionless import Table\n",
                "\n",
                "with Table('capital-3.csv', headers=False) as table:\n",
                "    pprint(table.headers)\n",
                "    pprint(table.read_rows())"
            ],
            "execution_count": null,
            "outputs": [
                {
                    "output_type": "stream",
                    "text": [
                        "[]\n",
                        "[Row([('field1', 'id'), ('field2', 'name')]),\n",
                        " Row([('field1', '1'), ('field2', 'London')]),\n",
                        " Row([('field1', '2'), ('field2', 'Berlin')]),\n",
                        " Row([('field1', '3'), ('field2', 'Paris')]),\n",
                        " Row([('field1', '4'), ('field2', 'Madrid')]),\n",
                        " Row([('field1', '5'), ('field2', 'Rome')])]\n"
                    ],
                    "name": "stdout"
                }
            ]
        },
        {
            "cell_type": "markdown",
            "metadata": {
                "id": "ST0IP9OJHY-r",
                "colab_type": "text"
            },
            "source": [
                "\n",
                "It accepts an integer indicating the header row number:"
            ]
        },
        {
            "cell_type": "code",
            "metadata": {
                "id": "8IRI29I4FYcC",
                "colab_type": "code",
                "colab": {
                    "base_uri": "https://localhost:8080/",
                    "height": 101
                },
                "executionInfo": {
                    "status": "ok",
                    "timestamp": 1596202846924,
                    "user_tz": -180,
                    "elapsed": 701,
                    "user": {
                        "displayName": "Evgeny Karev",
                        "photoUrl": "",
                        "userId": "12160649330696878788"
                    }
                },
                "outputId": "ca8a5aa1-b8dd-424d-b05b-845a03473fd0"
            },
            "source": [
                "from frictionless import Table\n",
                "\n",
                "with Table('capital-3.csv', headers=2) as table:\n",
                "    pprint(table.headers)\n",
                "    pprint(table.read_rows())"
            ],
            "execution_count": null,
            "outputs": [
                {
                    "output_type": "stream",
                    "text": [
                        "['1', 'London']\n",
                        "[Row([('1', 2), ('London', 'Berlin')]),\n",
                        " Row([('1', 3), ('London', 'Paris')]),\n",
                        " Row([('1', 4), ('London', 'Madrid')]),\n",
                        " Row([('1', 5), ('London', 'Rome')])]\n"
                    ],
                    "name": "stdout"
                }
            ]
        },
        {
            "cell_type": "markdown",
            "metadata": {
                "id": "jxg2xriHGkeM",
                "colab_type": "text"
            },
            "source": [
                "It accepts a list of integers indicating a multiline header row numbers:"
            ]
        },
        {
            "cell_type": "code",
            "metadata": {
                "id": "g8dmAHLLGYIH",
                "colab_type": "code",
                "colab": {
                    "base_uri": "https://localhost:8080/",
                    "height": 84
                },
                "executionInfo": {
                    "status": "ok",
                    "timestamp": 1596202853489,
                    "user_tz": -180,
                    "elapsed": 613,
                    "user": {
                        "displayName": "Evgeny Karev",
                        "photoUrl": "",
                        "userId": "12160649330696878788"
                    }
                },
                "outputId": "eced602c-19ff-4ef2-d3a9-d537ed39716e"
            },
            "source": [
                "from frictionless import Table\n",
                "\n",
                "with Table('capital-3.csv', headers=[1,2,3]) as table:\n",
                "    pprint(table.headers)\n",
                "    pprint(table.read_rows())"
            ],
            "execution_count": null,
            "outputs": [
                {
                    "output_type": "stream",
                    "text": [
                        "['id 1 2', 'name London Berlin']\n",
                        "[Row([('id 1 2', 3), ('name London Berlin', 'Paris')]),\n",
                        " Row([('id 1 2', 4), ('name London Berlin', 'Madrid')]),\n",
                        " Row([('id 1 2', 5), ('name London Berlin', 'Rome')])]\n"
                    ],
                    "name": "stdout"
                }
            ]
        },
        {
            "cell_type": "markdown",
            "metadata": {
                "id": "PfHVFpOvG6Xt",
                "colab_type": "text"
            },
            "source": [
                "It accepts a pair containing a list of integers indicating a multiline header row numbers and a string indicating a joiner for a concatenate operation:\n"
            ]
        },
        {
            "cell_type": "code",
            "metadata": {
                "id": "qIMQslDuHIl0",
                "colab_type": "code",
                "colab": {
                    "base_uri": "https://localhost:8080/",
                    "height": 84
                },
                "executionInfo": {
                    "status": "ok",
                    "timestamp": 1596202989668,
                    "user_tz": -180,
                    "elapsed": 720,
                    "user": {
                        "displayName": "Evgeny Karev",
                        "photoUrl": "",
                        "userId": "12160649330696878788"
                    }
                },
                "outputId": "bc0400d4-2de0-46fa-b408-8a3313abfb32"
            },
            "source": [
                "from frictionless import Table\n",
                "\n",
                "with Table('capital-3.csv', headers=[[1,2,3], '/']) as table:\n",
                "    pprint(table.headers)\n",
                "    pprint(table.read_rows())"
            ],
            "execution_count": null,
            "outputs": [
                {
                    "output_type": "stream",
                    "text": [
                        "['id/1/2', 'name/London/Berlin']\n",
                        "[Row([('id/1/2', 3), ('name/London/Berlin', 'Paris')]),\n",
                        " Row([('id/1/2', 4), ('name/London/Berlin', 'Madrid')]),\n",
                        " Row([('id/1/2', 5), ('name/London/Berlin', 'Rome')])]\n"
                    ],
                    "name": "stdout"
                }
            ]
        },
        {
            "cell_type": "markdown",
            "metadata": {
                "id": "myOn0wYQcIHY",
                "colab_type": "text"
            },
            "source": [
                "## Schema Options\n",
                "\n",
                "By default, a schema for a table is inferred under the hood but we can also pass it explicetely. "
            ]
        },
        {
            "cell_type": "markdown",
            "metadata": {
                "id": "jBKLJchXTtQn",
                "colab_type": "text"
            },
            "source": [
                "**Schema**\n",
                "\n",
                "The most common way is providing a schema argument to the Table constructor. For example, let's make the `id` field be a string instead of an integer:"
            ]
        },
        {
            "cell_type": "code",
            "metadata": {
                "id": "N_ZwfvXtSB48",
                "colab_type": "code",
                "colab": {
                    "base_uri": "https://localhost:8080/",
                    "height": 134
                },
                "executionInfo": {
                    "status": "ok",
                    "timestamp": 1596206093976,
                    "user_tz": -180,
                    "elapsed": 615,
                    "user": {
                        "displayName": "Evgeny Karev",
                        "photoUrl": "",
                        "userId": "12160649330696878788"
                    }
                },
                "outputId": "e79b9cc9-567d-4a2e-fbae-ffc28c6dbead"
            },
            "source": [
                "from frictionless import Table, Schema, Field\n",
                "\n",
                "schema = Schema(fields=[Field(name='id', type='string'), Field(name='name', type='string')])\n",
                "with Table('capital-3.csv', schema=schema) as table:\n",
                "  pprint(table.schema)\n",
                "  pprint(table.read_rows())"
            ],
            "execution_count": null,
            "outputs": [
                {
                    "output_type": "stream",
                    "text": [
                        "{'fields': [{'name': 'id', 'type': 'string'},\n",
                        "            {'name': 'name', 'type': 'string'}]}\n",
                        "[Row([('id', '1'), ('name', 'London')]),\n",
                        " Row([('id', '2'), ('name', 'Berlin')]),\n",
                        " Row([('id', '3'), ('name', 'Paris')]),\n",
                        " Row([('id', '4'), ('name', 'Madrid')]),\n",
                        " Row([('id', '5'), ('name', 'Rome')])]\n"
                    ],
                    "name": "stdout"
                }
            ]
        },
        {
            "cell_type": "markdown",
            "metadata": {
                "id": "cEdN0IlXUKuB",
                "colab_type": "text"
            },
            "source": [
                "**Sync Schema**\n",
                "\n",
                "There is a way to sync provided schema based on a header row's field order. It's very useful when you have a schema that represents only a subset of the table's fields:"
            ]
        },
        {
            "cell_type": "code",
            "metadata": {
                "id": "YeZjrrrgUf5Q",
                "colab_type": "code",
                "colab": {
                    "base_uri": "https://localhost:8080/",
                    "height": 134
                },
                "executionInfo": {
                    "status": "ok",
                    "timestamp": 1596206519882,
                    "user_tz": -180,
                    "elapsed": 699,
                    "user": {
                        "displayName": "Evgeny Karev",
                        "photoUrl": "",
                        "userId": "12160649330696878788"
                    }
                },
                "outputId": "bba9b450-7480-4299-d0ea-7f12f7b520da"
            },
            "source": [
                "from frictionless import Table, Schema, Field\n",
                "\n",
                "# Note the order of the fields\n",
                "schema = Schema(fields=[Field(name='name', type='string'), Field(name='id', type='string')])\n",
                "with Table('capital-3.csv', schema=schema, sync_schema=True) as table:\n",
                "  pprint(table.schema)\n",
                "  pprint(table.read_rows())"
            ],
            "execution_count": null,
            "outputs": [
                {
                    "output_type": "stream",
                    "text": [
                        "{'fields': [{'name': 'id', 'type': 'string'},\n",
                        "            {'name': 'name', 'type': 'string'}]}\n",
                        "[Row([('id', '1'), ('name', 'London')]),\n",
                        " Row([('id', '2'), ('name', 'Berlin')]),\n",
                        " Row([('id', '3'), ('name', 'Paris')]),\n",
                        " Row([('id', '4'), ('name', 'Madrid')]),\n",
                        " Row([('id', '5'), ('name', 'Rome')])]\n"
                    ],
                    "name": "stdout"
                }
            ]
        },
        {
            "cell_type": "markdown",
            "metadata": {
                "id": "R6OxF_uWTfWQ",
                "colab_type": "text"
            },
            "source": [
                "**Patch Schema**\n",
                "\n",
                "Sometimes we just want to update only a few fields or some schema's properties without providing a brand new schema. For example, the two examples above can be simplified as:"
            ]
        },
        {
            "cell_type": "code",
            "metadata": {
                "id": "1-3vCZJXVXRd",
                "colab_type": "code",
                "colab": {
                    "base_uri": "https://localhost:8080/",
                    "height": 134
                },
                "executionInfo": {
                    "status": "ok",
                    "timestamp": 1596206738633,
                    "user_tz": -180,
                    "elapsed": 672,
                    "user": {
                        "displayName": "Evgeny Karev",
                        "photoUrl": "",
                        "userId": "12160649330696878788"
                    }
                },
                "outputId": "daed74fd-15ff-4ac2-94db-2fabb69e38bd"
            },
            "source": [
                "from frictionless import Table\n",
                "\n",
                "with Table('capital-3.csv', patch_schema={'fields': {'id': {'type': 'string'}}}) as table:\n",
                "  pprint(table.schema)\n",
                "  pprint(table.read_rows())"
            ],
            "execution_count": null,
            "outputs": [
                {
                    "output_type": "stream",
                    "text": [
                        "{'fields': [{'name': 'id', 'type': 'string'},\n",
                        "            {'name': 'name', 'type': 'string'}]}\n",
                        "[Row([('id', '1'), ('name', 'London')]),\n",
                        " Row([('id', '2'), ('name', 'Berlin')]),\n",
                        " Row([('id', '3'), ('name', 'Paris')]),\n",
                        " Row([('id', '4'), ('name', 'Madrid')]),\n",
                        " Row([('id', '5'), ('name', 'Rome')])]\n"
                    ],
                    "name": "stdout"
                }
            ]
        },
        {
            "cell_type": "markdown",
            "metadata": {
                "id": "PudIdYrEDQ4c",
                "colab_type": "text"
            },
            "source": [
                "## Integrity Options\n",
                "\n",
                "> This section is work-in-progress\n",
                "\n",
                "Exctraction function and classes accepts only one integrity option:\n"
            ]
        },
        {
            "cell_type": "markdown",
            "metadata": {
                "id": "piN8F9QyDdZx",
                "colab_type": "text"
            },
            "source": [
                "**Lookup**\n",
                "\n",
                "The lookup is a special object providing relational information in cases when it's not impossible to extract. For example, the Package is capable to get a lookup object from its resource while a table object needs it to be provided. "
            ]
        },
        {
            "cell_type": "markdown",
            "metadata": {
                "id": "Sfmf2bPVyX4C",
                "colab_type": "text"
            },
            "source": [
                "## Headers Object\n",
                "\n",
                "> This section is work-in-progress\n",
                "\n"
            ]
        },
        {
            "cell_type": "markdown",
            "metadata": {
                "id": "y1maYkNeyDnW",
                "colab_type": "text"
            },
            "source": [
                "## Row Object\n",
                "\n",
                "> This section is work-in-progress\n"
            ]
        }
    ]
}
