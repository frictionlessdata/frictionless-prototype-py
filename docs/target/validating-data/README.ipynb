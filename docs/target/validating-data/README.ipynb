{
    "nbformat": 4,
    "nbformat_minor": 0,
    "metadata": {
        "colab": {
            "name": "validating-data.ipynb",
            "provenance": [],
            "toc_visible": true,
            "authorship_tag": "ABX9TyPSiTXDsUqlwEovRet7x0wW"
        },
        "kernelspec": {
            "name": "python3",
            "display_name": "Python 3"
        }
    },
    "cells": [
        {
            "cell_type": "markdown",
            "metadata": {
                "id": "eq7VruoCq3De",
                "colab_type": "text"
            },
            "source": [
                "# Validating Data\n",
                "\n",
                "Tabular data validation is a process of identifying tabular problems that have place in your data for further correction. Let's explore how Frictionless helps to achieve this tasks using an invalid data table example:"
            ]
        },
        {
            "cell_type": "code",
            "metadata": {
                "id": "Ory_35hIKOsa",
                "colab_type": "code",
                "colab": {}
            },
            "source": [
                "! pip install frictionless"
            ],
            "execution_count": null,
            "outputs": []
        },
        {
            "cell_type": "code",
            "metadata": {
                "id": "yLwF_CXaMgHQ",
                "colab_type": "code",
                "colab": {
                    "base_uri": "https://localhost:8080/",
                    "height": 218
                },
                "executionInfo": {
                    "status": "ok",
                    "timestamp": 1596452390594,
                    "user_tz": -180,
                    "elapsed": 7131,
                    "user": {
                        "displayName": "Evgeny Karev",
                        "photoUrl": "",
                        "userId": "12160649330696878788"
                    }
                },
                "outputId": "bdba3187-0100-4eb1-dce1-30e82f9c9fc4"
            },
            "source": [
                "! wget -q -O capital.csv https://raw.githubusercontent.com/frictionlessdata/frictionless-py/master/data/capital-invalid.csv\n",
                "! cat capital.csv"
            ],
            "execution_count": null,
            "outputs": [
                {
                    "output_type": "stream",
                    "text": [
                        "id,name,name\n",
                        "1,London,Britain\n",
                        "2,Berlin,Germany\n",
                        "3,Paris,France\n",
                        "4,Madrid,Spain\n",
                        "5,Rome,Italy\n",
                        "6,Zagreb,Croatia\n",
                        "7,Athens,Greece\n",
                        "8,Vienna,Austria\n",
                        "8,Warsaw\n",
                        "\n",
                        "x,Tokio,Japan,review\n"
                    ],
                    "name": "stdout"
                }
            ]
        },
        {
            "cell_type": "markdown",
            "metadata": {
                "id": "ZwMjuZyVNM6U",
                "colab_type": "text"
            },
            "source": [
                "Using the command-line interface we can validate this file. Frictionless provides comprehensive error details so it's self-explanatory. Continue reading to learn the validation process in-details."
            ]
        },
        {
            "cell_type": "code",
            "metadata": {
                "id": "vlZO4nZ4NGiC",
                "colab_type": "code",
                "colab": {
                    "base_uri": "https://localhost:8080/",
                    "height": 188
                },
                "executionInfo": {
                    "status": "ok",
                    "timestamp": 1596288962099,
                    "user_tz": -180,
                    "elapsed": 3616,
                    "user": {
                        "displayName": "Evgeny Karev",
                        "photoUrl": "",
                        "userId": "12160649330696878788"
                    }
                },
                "outputId": "6a8b8a82-7b5d-43eb-dd3c-da7317680a81"
            },
            "source": [
                "! frictionless validate capital.csv"
            ],
            "execution_count": null,
            "outputs": [
                {
                    "output_type": "stream",
                    "text": [
                        "\u001b[1m[invalid] capital.csv\u001b[0m\n",
                        "\u001b[0m\n",
                        "  row    field  code              message\n",
                        "-----  -------  ----------------  --------------------------------------------------------------------------------------------------------------------\n",
                        "             3  duplicate-header  Header \"name\" in field at position \"3\" is duplicated to header in another field: at position \"2\"\n",
                        "   10        3  missing-cell      Row at position \"10\" has a missing cell in field \"name2\" at position \"3\"\n",
                        "   11           blank-row         Row at position \"11\" is completely blank\n",
                        "   12        4  extra-cell        Row at position \"12\" has an extra value in field at position \"4\"\n",
                        "   12        1  type-error        The cell \"x\" in row at position \"12\" and field \"id\" at position \"1\" has incompatible type: type is \"integer/default\"\u001b[0m\n"
                    ],
                    "name": "stdout"
                }
            ]
        },
        {
            "cell_type": "markdown",
            "metadata": {
                "id": "CJT2yfbdlRNN",
                "colab_type": "text"
            },
            "source": [
                "## Validate Functions\n",
                "\n",
                "The high-level interface for validating data provided by Frictionless is a set of `validate` functions:\n",
                "- `validate`: it will detect the source type and validate data accordingly\n",
                "- `validate_schema`: it validates a schema's metadata\n",
                "- `validate_resource`: it validates a resource's data and metadata \n",
                "- `validate_package`: it validates a package's data and metadata\n",
                "- `validate_inquiery`: it validates a special `Inquiery` object which represents a validation task insruction\n",
                "- `validate_table`: it validates a table\n",
                "\n",
                "In command-line, there is only 1 command but there is a flag to adjust the behavior:\n",
                "\n",
                "```bash\n",
                "$ frictionless validate\n",
                "$ frictionless validate --source-type schema\n",
                "$ frictionless validate --source-type resource\n",
                "$ frictionless validate --source-type package\n",
                "$ frictionless validate --source-type inquiry\n",
                "$ frictionless validate --source-type table\n",
                "```"
            ]
        },
        {
            "cell_type": "markdown",
            "metadata": {
                "id": "U1k6JfxqlZSa",
                "colab_type": "text"
            },
            "source": [
                "### Validating Schema\n",
                "\n",
                "The `validate_schema` function is the only function validating solely metadata. Let's create a invalid table schema:"
            ]
        },
        {
            "cell_type": "code",
            "metadata": {
                "id": "so2SV_a4O5h7",
                "colab_type": "code",
                "colab": {}
            },
            "source": [
                "from frictionless import Schema\n",
                "\n",
                "schema = Schema()\n",
                "schema.fields = {} # must be a list\n",
                "schema.to_yaml('invalid.schema.yaml')"
            ],
            "execution_count": null,
            "outputs": []
        },
        {
            "cell_type": "markdown",
            "metadata": {
                "id": "06no4xDyPNpY",
                "colab_type": "text"
            },
            "source": [
                "And validate it using the command-line interface:"
            ]
        },
        {
            "cell_type": "code",
            "metadata": {
                "id": "z0zgsZTOPMzv",
                "colab_type": "code",
                "colab": {
                    "base_uri": "https://localhost:8080/",
                    "height": 121
                },
                "executionInfo": {
                    "status": "ok",
                    "timestamp": 1596289099397,
                    "user_tz": -180,
                    "elapsed": 2868,
                    "user": {
                        "displayName": "Evgeny Karev",
                        "photoUrl": "",
                        "userId": "12160649330696878788"
                    }
                },
                "outputId": "cba75e68-0108-4e6d-85e7-5cb66fee2bc5"
            },
            "source": [
                "! frictionless validate invalid.schema.yaml"
            ],
            "execution_count": null,
            "outputs": [
                {
                    "output_type": "stream",
                    "text": [
                        "\u001b[1m[invalid] invalid.schema.yaml\u001b[0m\n",
                        "\u001b[0m\n",
                        "code          message\n",
                        "------------  -------------------------------------------------------------------------------------------------------------------------------------------------------------------------------\n",
                        "schema-error  The data source could not be successfully described by the invalid Table Schema: \"{} is not of type 'array'\" at \"fields\" in metadata and at \"properties/fields/type\" in profile\u001b[0m\n"
                    ],
                    "name": "stdout"
                }
            ]
        },
        {
            "cell_type": "markdown",
            "metadata": {
                "id": "rs8ZcIs8P5FQ",
                "colab_type": "text"
            },
            "source": [
                "Schema validation can be very useful when you work with different classes of tables and create schemas for them. Using this function you can ensure that the metadata is valid."
            ]
        },
        {
            "cell_type": "markdown",
            "metadata": {
                "id": "IjiVIEzUlb3F",
                "colab_type": "text"
            },
            "source": [
                "### Validating Resource\n",
                "\n",
                "As it was shown in the \"Describing Data\" guide a resource is a container having both metadata and data. We need to create a resource descriptor to validate it:"
            ]
        },
        {
            "cell_type": "code",
            "metadata": {
                "id": "w4TYgOV1QzbM",
                "colab_type": "code",
                "colab": {}
            },
            "source": [
                "! frictionless describe capital.csv --json > capital.resource.json"
            ],
            "execution_count": null,
            "outputs": []
        },
        {
            "cell_type": "markdown",
            "metadata": {
                "id": "qsOA1906Q7NT",
                "colab_type": "text"
            },
            "source": [
                "Let's now use the command-line interface to ensure that we are getting the same result as we had withouth using a resource:"
            ]
        },
        {
            "cell_type": "code",
            "metadata": {
                "id": "yIthhIytRF9z",
                "colab_type": "code",
                "colab": {
                    "base_uri": "https://localhost:8080/",
                    "height": 188
                },
                "executionInfo": {
                    "status": "ok",
                    "timestamp": 1596289491722,
                    "user_tz": -180,
                    "elapsed": 5048,
                    "user": {
                        "displayName": "Evgeny Karev",
                        "photoUrl": "",
                        "userId": "12160649330696878788"
                    }
                },
                "outputId": "17fb6558-d404-4e12-e61f-e5e4bae9e9dc"
            },
            "source": [
                "! frictionless validate capital.resource.json"
            ],
            "execution_count": null,
            "outputs": [
                {
                    "output_type": "stream",
                    "text": [
                        "\u001b[1m[invalid] capital.csv\u001b[0m\n",
                        "\u001b[0m\n",
                        "  row    field  code              message\n",
                        "-----  -------  ----------------  --------------------------------------------------------------------------------------------------------------------\n",
                        "             3  duplicate-header  Header \"name\" in field at position \"3\" is duplicated to header in another field: at position \"2\"\n",
                        "   10        3  missing-cell      Row at position \"10\" has a missing cell in field \"name2\" at position \"3\"\n",
                        "   11           blank-row         Row at position \"11\" is completely blank\n",
                        "   12        4  extra-cell        Row at position \"12\" has an extra value in field at position \"4\"\n",
                        "   12        1  type-error        The cell \"x\" in row at position \"12\" and field \"id\" at position \"1\" has incompatible type: type is \"integer/default\"\u001b[0m\n"
                    ],
                    "name": "stdout"
                }
            ]
        },
        {
            "cell_type": "markdown",
            "metadata": {
                "id": "by5DX6cYRMsq",
                "colab_type": "text"
            },
            "source": [
                "Okay, why do we need to use a resource descriptor if the result is the same? The reason is metadata + data packaging. Let's extend our resoure descriptor:"
            ]
        },
        {
            "cell_type": "code",
            "metadata": {
                "id": "TYK2Pw34Rhry",
                "colab_type": "code",
                "colab": {}
            },
            "source": [
                "from frictionless import describe\n",
                "\n",
                "resource = describe('capital.csv')\n",
                "resource['bytes'] = 100 # wrong\n",
                "resource['hash'] = 'ae23c74693ca2d3f0e38b9ba3570775b' # wrong\n",
                "resource.to_yaml('capital.resource.yaml')"
            ],
            "execution_count": null,
            "outputs": []
        },
        {
            "cell_type": "markdown",
            "metadata": {
                "id": "3tNWQwH7SQOC",
                "colab_type": "text"
            },
            "source": [
                "We have added a few bad metrics to our resource descriptor. The validation below reports it in addition to all the errors we had before. This example is showing how concepts like Data Resource can be extremely useful when working with data."
            ]
        },
        {
            "cell_type": "code",
            "metadata": {
                "id": "DlWbt5LcR1nx",
                "colab_type": "code",
                "colab": {
                    "base_uri": "https://localhost:8080/",
                    "height": 222
                },
                "executionInfo": {
                    "status": "ok",
                    "timestamp": 1596289759439,
                    "user_tz": -180,
                    "elapsed": 5355,
                    "user": {
                        "displayName": "Evgeny Karev",
                        "photoUrl": "",
                        "userId": "12160649330696878788"
                    }
                },
                "outputId": "8d9fdd14-9479-4e83-f403-fe1dd91e89ef"
            },
            "source": [
                "! frictionless validate capital.resource.yaml"
            ],
            "execution_count": null,
            "outputs": [
                {
                    "output_type": "stream",
                    "text": [
                        "\u001b[1m[invalid] capital.csv\u001b[0m\n",
                        "\u001b[0m\n",
                        "  row    field  code              message\n",
                        "-----  -------  ----------------  -----------------------------------------------------------------------------------------------------------------------------------------------------------------\n",
                        "             3  duplicate-header  Header \"name\" in field at position \"3\" is duplicated to header in another field: at position \"2\"\n",
                        "   10        3  missing-cell      Row at position \"10\" has a missing cell in field \"name2\" at position \"3\"\n",
                        "   11           blank-row         Row at position \"11\" is completely blank\n",
                        "   12        4  extra-cell        Row at position \"12\" has an extra value in field at position \"4\"\n",
                        "   12        1  type-error        The cell \"x\" in row at position \"12\" and field \"id\" at position \"1\" has incompatible type: type is \"integer/default\"\n",
                        "                checksum-error    The data source does not match the expected checksum: expected hash in md5 is \"ae23c74693ca2d3f0e38b9ba3570775b\" and actual is \"dcdeae358cfd50860c18d953e021f836\"\n",
                        "                checksum-error    The data source does not match the expected checksum: expected bytes count is \"100\" and actual is \"171\"\u001b[0m\n"
                    ],
                    "name": "stdout"
                }
            ]
        },
        {
            "cell_type": "markdown",
            "metadata": {
                "id": "1MOyT4dIld1c",
                "colab_type": "text"
            },
            "source": [
                "### Validating Package\n",
                "\n",
                "A package is a set of resources + additional metadata. To showcase a package validation we need one more tabular file:"
            ]
        },
        {
            "cell_type": "code",
            "metadata": {
                "id": "L1YmyoS_TU3B",
                "colab_type": "code",
                "colab": {
                    "base_uri": "https://localhost:8080/",
                    "height": 118
                },
                "executionInfo": {
                    "status": "ok",
                    "timestamp": 1596290086987,
                    "user_tz": -180,
                    "elapsed": 4426,
                    "user": {
                        "displayName": "Evgeny Karev",
                        "photoUrl": "",
                        "userId": "12160649330696878788"
                    }
                },
                "outputId": "521752df-5596-4f8a-8a8d-d006383d4a62"
            },
            "source": [
                "! wget -q -O capital-valid.csv https://raw.githubusercontent.com/frictionlessdata/frictionless-py/master/data/capital-3.csv\n",
                "! cat capital-valid.csv"
            ],
            "execution_count": null,
            "outputs": [
                {
                    "output_type": "stream",
                    "text": [
                        "id,name\n",
                        "1,London\n",
                        "2,Berlin\n",
                        "3,Paris\n",
                        "4,Madrid\n",
                        "5,Rome\n"
                    ],
                    "name": "stdout"
                }
            ]
        },
        {
            "cell_type": "markdown",
            "metadata": {
                "id": "F55OkkcKTc8m",
                "colab_type": "text"
            },
            "source": [
                "Let's describe and validate a package:"
            ]
        },
        {
            "cell_type": "code",
            "metadata": {
                "id": "iXnNmlHATfHT",
                "colab_type": "code",
                "colab": {
                    "base_uri": "https://localhost:8080/",
                    "height": 222
                },
                "executionInfo": {
                    "status": "ok",
                    "timestamp": 1596290227203,
                    "user_tz": -180,
                    "elapsed": 5870,
                    "user": {
                        "displayName": "Evgeny Karev",
                        "photoUrl": "",
                        "userId": "12160649330696878788"
                    }
                },
                "outputId": "a4cb9750-e190-42f2-d0e9-dad91000b5a1"
            },
            "source": [
                "! frictionless describe capital*.csv --json > capital.package.json\n",
                "! frictionless validate capital.package.json"
            ],
            "execution_count": null,
            "outputs": [
                {
                    "output_type": "stream",
                    "text": [
                        "\u001b[1m[invalid] capital.csv\u001b[0m\n",
                        "\u001b[0m\n",
                        "  row    field  code              message\n",
                        "-----  -------  ----------------  --------------------------------------------------------------------------------------------------------------------\n",
                        "             3  duplicate-header  Header \"name\" in field at position \"3\" is duplicated to header in another field: at position \"2\"\n",
                        "   10        3  missing-cell      Row at position \"10\" has a missing cell in field \"name2\" at position \"3\"\n",
                        "   11           blank-row         Row at position \"11\" is completely blank\n",
                        "   12        4  extra-cell        Row at position \"12\" has an extra value in field at position \"4\"\n",
                        "   12        1  type-error        The cell \"x\" in row at position \"12\" and field \"id\" at position \"1\" has incompatible type: type is \"integer/default\"\u001b[0m\n",
                        "\u001b[0m\n",
                        "\u001b[1m[valid] capital-valid.csv\u001b[0m\n"
                    ],
                    "name": "stdout"
                }
            ]
        },
        {
            "cell_type": "markdown",
            "metadata": {
                "id": "DO6vrciaT_4_",
                "colab_type": "text"
            },
            "source": [
                "As we can see, the result is pretty straight-forward and expected: we have one invalid resource and one valid. One important note regarding the package validation: if there are more than one resource, it will use multiprocessing to speed up the process"
            ]
        },
        {
            "cell_type": "markdown",
            "metadata": {
                "id": "eREXaTt8lgLn",
                "colab_type": "text"
            },
            "source": [
                "### Validating Inquiry\n",
                "\n",
                "The Inquiry gives you an ability to create arbitrary validation jobs containing a set of individual validation taks. Let's create an inquiry that includes an individual file validation and a resource validation:"
            ]
        },
        {
            "cell_type": "code",
            "metadata": {
                "id": "DZ_luERbUm5Y",
                "colab_type": "code",
                "colab": {}
            },
            "source": [
                "from frictionless import Inquiry\n",
                "\n",
                "inquiry = Inquiry({'tasks': [\n",
                "  {'source': 'capital-valid.csv'}, \n",
                "  {'source': 'capital.resource.json'},\n",
                "]})\n",
                "inquiry.to_yaml('capital.inquiry.yaml')"
            ],
            "execution_count": null,
            "outputs": []
        },
        {
            "cell_type": "markdown",
            "metadata": {
                "id": "EWnArWVPVNRw",
                "colab_type": "text"
            },
            "source": [
                "Tasks in the Inquiry accept the same arguments written in camelCase as the corresponding `validate` functions have. As usual, let' run validation:"
            ]
        },
        {
            "cell_type": "code",
            "metadata": {
                "id": "ZWmzBx8EVQNG",
                "colab_type": "code",
                "colab": {
                    "base_uri": "https://localhost:8080/",
                    "height": 205
                },
                "executionInfo": {
                    "status": "ok",
                    "timestamp": 1596290597865,
                    "user_tz": -180,
                    "elapsed": 3300,
                    "user": {
                        "displayName": "Evgeny Karev",
                        "photoUrl": "",
                        "userId": "12160649330696878788"
                    }
                },
                "outputId": "6696b5cb-1720-49e0-ac72-f7dda46c4f80"
            },
            "source": [
                "! frictionless validate capital.inquiry.yaml"
            ],
            "execution_count": null,
            "outputs": [
                {
                    "output_type": "stream",
                    "text": [
                        "\u001b[1m[valid] capital-valid.csv\u001b[0m\n",
                        "\u001b[1m[invalid] capital.csv\u001b[0m\n",
                        "\u001b[0m\n",
                        "  row    field  code              message\n",
                        "-----  -------  ----------------  --------------------------------------------------------------------------------------------------------------------\n",
                        "             3  duplicate-header  Header \"name\" in field at position \"3\" is duplicated to header in another field: at position \"2\"\n",
                        "   10        3  missing-cell      Row at position \"10\" has a missing cell in field \"name2\" at position \"3\"\n",
                        "   11           blank-row         Row at position \"11\" is completely blank\n",
                        "   12        4  extra-cell        Row at position \"12\" has an extra value in field at position \"4\"\n",
                        "   12        1  type-error        The cell \"x\" in row at position \"12\" and field \"id\" at position \"1\" has incompatible type: type is \"integer/default\"\u001b[0m\n"
                    ],
                    "name": "stdout"
                }
            ]
        },
        {
            "cell_type": "markdown",
            "metadata": {
                "id": "cQ0EWpYpVkk1",
                "colab_type": "text"
            },
            "source": [
                "At first sight, it's no clear why such a construct exists but when your validation workflow gets complex, the Inquiry can provide a lot of flexibility and power. Last but not least, the Inquiry will use multiprocessing if there are more than 1 task provided."
            ]
        },
        {
            "cell_type": "markdown",
            "metadata": {
                "id": "7e4VGyyXliyh",
                "colab_type": "text"
            },
            "source": [
                "### Validating Table\n",
                "\n",
                "All the functions above except for `validate_schema` are just wrappers over the `validate_table` function. Below we will be talking a lot about the table validation so here will just provide a simple example:"
            ]
        },
        {
            "cell_type": "code",
            "metadata": {
                "id": "Gm-Qj2LrXeDi",
                "colab_type": "code",
                "colab": {
                    "base_uri": "https://localhost:8080/",
                    "height": 121
                },
                "executionInfo": {
                    "status": "ok",
                    "timestamp": 1596291215219,
                    "user_tz": -180,
                    "elapsed": 3723,
                    "user": {
                        "displayName": "Evgeny Karev",
                        "photoUrl": "",
                        "userId": "12160649330696878788"
                    }
                },
                "outputId": "5da393e8-3af6-45a1-c0c5-c9126d816442"
            },
            "source": [
                "! frictionless validate capital.csv --pick-errors duplicate-header"
            ],
            "execution_count": null,
            "outputs": [
                {
                    "output_type": "stream",
                    "text": [
                        "\u001b[1m[invalid] capital.csv\u001b[0m\n",
                        "\u001b[0m\n",
                        "row      field  code              message\n",
                        "-----  -------  ----------------  ------------------------------------------------------------------------------------------------\n",
                        "             3  duplicate-header  Header \"name\" in field at position \"3\" is duplicated to header in another field: at position \"2\"\u001b[0m\n"
                    ],
                    "name": "stdout"
                }
            ]
        },
        {
            "cell_type": "markdown",
            "metadata": {
                "id": "hHZ83WJGXv-w",
                "colab_type": "text"
            },
            "source": [
                "Please keep reading to learn about the table validation in-detail."
            ]
        },
        {
            "cell_type": "markdown",
            "metadata": {
                "id": "Ww-TvAmgZVct",
                "colab_type": "text"
            },
            "source": [
                "## Validation Options\n",
                "\n",
                "Let's overview options that the described `validate` functions accept:"
            ]
        },
        {
            "cell_type": "markdown",
            "metadata": {
                "id": "ZXNmajpV8X_B",
                "colab_type": "text"
            },
            "source": [
                "**Schema/Inquiry**\n",
                "\n",
                "The `validate_schema` and `validate_inquiry` don't accept any options in addition to `source`. "
            ]
        },
        {
            "cell_type": "markdown",
            "metadata": {
                "id": "OCEapY7l8neB",
                "colab_type": "text"
            },
            "source": [
                "**Resource/Package**\n",
                "\n",
                "The Resource and Package incapsulate most of information within their descriptor so the amount of additional options is really limited:\n",
                "- `basepath`: base path for a resource/package\n",
                "- `noinfer`: a flag disabling an infer function call"
            ]
        },
        {
            "cell_type": "markdown",
            "metadata": {
                "id": "9F-2B6AN-ToP",
                "colab_type": "text"
            },
            "source": [
                "**Table**\n",
                "\n",
                "The `validate_table` function accept most of the `describe/extract` function's options:\n",
                "\n",
                "- File Details (see \"Extracting Data\")\n",
                "- File Control (see \"Extracting Data\")\n",
                "- Table Dialect (see \"Extracting Data\")\n",
                "- Table Query (see \"Extracting Data\")\n",
                "- Header Options (see \"Extracting Data\")\n",
                "- Schema Options (see \"Extracting Data\")\n",
                "- Integrity Options (see \"Extracting Data\")\n",
                "- Infer Options (see \"Describing Data\")\n",
                "- Errors Options\n",
                "- Memory Options\n",
                "- Checks Options"
            ]
        },
        {
            "cell_type": "markdown",
            "metadata": {
                "id": "9ZnEG3diYoVM",
                "colab_type": "text"
            },
            "source": [
                "## Validation Report\n",
                "\n",
                "All the `validate` functions return the Validation Report. It's an unified object containing information about a validation: source details, found error, etc. Let's explore a report:"
            ]
        },
        {
            "cell_type": "code",
            "metadata": {
                "id": "WCf-cDCaWKdw",
                "colab_type": "code",
                "colab": {
                    "base_uri": "https://localhost:8080/",
                    "height": 706
                },
                "executionInfo": {
                    "status": "ok",
                    "timestamp": 1596452619943,
                    "user_tz": -180,
                    "elapsed": 793,
                    "user": {
                        "displayName": "Evgeny Karev",
                        "photoUrl": "",
                        "userId": "12160649330696878788"
                    }
                },
                "outputId": "09c02321-816b-4c4f-87e1-80ac93a9d8f0"
            },
            "source": [
                "from pprint import pprint\n",
                "from frictionless import validate\n",
                "\n",
                "report = validate('capital.csv', pick_errors=['duplicate-header'])\n",
                "pprint(report)"
            ],
            "execution_count": null,
            "outputs": [
                {
                    "output_type": "stream",
                    "text": [
                        "{'errors': [],\n",
                        " 'stats': {'errors': 1, 'tables': 1},\n",
                        " 'tables': [{'compression': 'no',\n",
                        "             'compressionPath': '',\n",
                        "             'dialect': {},\n",
                        "             'encoding': 'utf-8',\n",
                        "             'errors': [{'cell': 'name',\n",
                        "                         'cells': ['id', 'name', 'name'],\n",
                        "                         'code': 'duplicate-header',\n",
                        "                         'description': 'Two columns in the header row have '\n",
                        "                                        'the same value. Column names should '\n",
                        "                                        'be unique.',\n",
                        "                         'fieldName': 'name2',\n",
                        "                         'fieldNumber': 3,\n",
                        "                         'fieldPosition': 3,\n",
                        "                         'message': 'Header \"name\" in field at position \"3\" is '\n",
                        "                                    'duplicated to header in another field: at '\n",
                        "                                    'position \"2\"',\n",
                        "                         'name': 'Duplicate Header',\n",
                        "                         'note': 'at position \"2\"',\n",
                        "                         'tags': ['#head', '#structure']}],\n",
                        "             'format': 'csv',\n",
                        "             'hashing': 'md5',\n",
                        "             'headers': ['id', 'name', 'name'],\n",
                        "             'partial': False,\n",
                        "             'path': 'capital.csv',\n",
                        "             'query': {},\n",
                        "             'schema': {'fields': [{'name': 'id', 'type': 'integer'},\n",
                        "                                   {'name': 'name', 'type': 'string'},\n",
                        "                                   {'name': 'name2', 'type': 'string'}]},\n",
                        "             'scheme': 'file',\n",
                        "             'scope': ['duplicate-header'],\n",
                        "             'stats': {'bytes': 171,\n",
                        "                       'errors': 1,\n",
                        "                       'hash': 'dcdeae358cfd50860c18d953e021f836',\n",
                        "                       'rows': 11},\n",
                        "             'time': 0.01,\n",
                        "             'valid': False}],\n",
                        " 'time': 0.01,\n",
                        " 'valid': False,\n",
                        " 'version': '0.4.4'}\n"
                    ],
                    "name": "stdout"
                }
            ]
        },
        {
            "cell_type": "markdown",
            "metadata": {
                "id": "Aj7-bS_UWzFM",
                "colab_type": "text"
            },
            "source": [
                "As we can see, there are a lot of information; you can find its details description in \"API Reference\". Errors are groupped by tables; for some validation there are can be dozens of tables. Let's use the `report.flatten` function to simplify errors representation:"
            ]
        },
        {
            "cell_type": "code",
            "metadata": {
                "id": "KNsyX4DTXbrz",
                "colab_type": "code",
                "colab": {
                    "base_uri": "https://localhost:8080/",
                    "height": 101
                },
                "executionInfo": {
                    "status": "ok",
                    "timestamp": 1596442206811,
                    "user_tz": -180,
                    "elapsed": 972,
                    "user": {
                        "displayName": "Evgeny Karev",
                        "photoUrl": "",
                        "userId": "12160649330696878788"
                    }
                },
                "outputId": "3b488a5c-afb1-43e0-f7d8-9859c38c695c"
            },
            "source": [
                "from frictionless import validate\n",
                "\n",
                "report = validate('capital.csv', pick_errors=['duplicate-header'])\n",
                "pprint(report.flatten(['rowPosition', 'fieldPosition', 'code', 'message']))"
            ],
            "execution_count": null,
            "outputs": [
                {
                    "output_type": "stream",
                    "text": [
                        "[[None,\n",
                        "  3,\n",
                        "  'duplicate-header',\n",
                        "  'Header \"name\" in field at position \"3\" is duplicated to header in another '\n",
                        "  'field: at position \"2\"']]\n"
                    ],
                    "name": "stdout"
                }
            ]
        },
        {
            "cell_type": "markdown",
            "metadata": {
                "id": "stgJJ2l4YA23",
                "colab_type": "text"
            },
            "source": [
                "In some situation, an error can't be associated with a table; then it goes to the top-level `report.errors` property:"
            ]
        },
        {
            "cell_type": "code",
            "metadata": {
                "id": "ZVvfwaDJYN5t",
                "colab_type": "code",
                "colab": {
                    "base_uri": "https://localhost:8080/",
                    "height": 269
                },
                "executionInfo": {
                    "status": "ok",
                    "timestamp": 1596442404785,
                    "user_tz": -180,
                    "elapsed": 798,
                    "user": {
                        "displayName": "Evgeny Karev",
                        "photoUrl": "",
                        "userId": "12160649330696878788"
                    }
                },
                "outputId": "2db7cdec-6dd1-43e3-d0f3-fe406b1cc278"
            },
            "source": [
                "from frictionless import validate_schema\n",
                "\n",
                "report = validate_schema('bad.json')\n",
                "pprint(report)"
            ],
            "execution_count": null,
            "outputs": [
                {
                    "output_type": "stream",
                    "text": [
                        "{'errors': [{'code': 'schema-error',\n",
                        "             'description': 'Provided schema is not valid.',\n",
                        "             'message': 'The data source could not be successfully described '\n",
                        "                        'by the invalid Table Schema: canot extract metadata '\n",
                        "                        '\"bad.json\" because \"[Errno 2] No such file or '\n",
                        "                        'directory: \\'bad.json\\'\"',\n",
                        "             'name': 'Schema Error',\n",
                        "             'note': 'canot extract metadata \"bad.json\" because \"[Errno 2] No '\n",
                        "                     'such file or directory: \\'bad.json\\'\"',\n",
                        "             'tags': ['#table', '#schema']}],\n",
                        " 'stats': {'errors': 1, 'tables': 0},\n",
                        " 'tables': [],\n",
                        " 'time': 0.001,\n",
                        " 'valid': False,\n",
                        " 'version': '0.4.4'}\n"
                    ],
                    "name": "stdout"
                }
            ]
        },
        {
            "cell_type": "markdown",
            "metadata": {
                "id": "SXy36iLGYrYi",
                "colab_type": "text"
            },
            "source": [
                "## Validation Errors\n",
                "\n",
                "The Error object is at the heart of the validation process. The Report has `report.errors` and `report.tables[].errors` properties that can contain the Error object. Let's explore it:"
            ]
        },
        {
            "cell_type": "code",
            "metadata": {
                "id": "E-rJVAZC9y8q",
                "colab_type": "code",
                "colab": {
                    "base_uri": "https://localhost:8080/",
                    "height": 138
                },
                "executionInfo": {
                    "status": "ok",
                    "timestamp": 1596452499247,
                    "user_tz": -180,
                    "elapsed": 654,
                    "user": {
                        "displayName": "Evgeny Karev",
                        "photoUrl": "",
                        "userId": "12160649330696878788"
                    }
                },
                "outputId": "e63d1445-5672-41e2-e549-5e376a3acee2"
            },
            "source": [
                "from frictionless import validate\n",
                "\n",
                "report = validate('capital.csv', pick_errors=['duplicate-header'])\n",
                "error = report.table.error # it's only available for 1 table / 1 error sitution\n",
                "print(f'Code: \"{error.code}\"')\n",
                "print(f'Name: \"{error.name}\"')\n",
                "print(f'Tags: \"{error.tags}\"')\n",
                "print(f'Note: \"{error.note}\"')\n",
                "print(f'Message: \"{error.message}\"')\n",
                "print(f'Description: \"{error.description}\"')"
            ],
            "execution_count": null,
            "outputs": [
                {
                    "output_type": "stream",
                    "text": [
                        "Code: \"duplicate-header\"\n",
                        "Name: \"Duplicate Header\"\n",
                        "Tags: \"['#head', '#structure']\"\n",
                        "Note: \"at position \"2\"\"\n",
                        "Message: \"Header \"name\" in field at position \"3\" is duplicated to header in another field: at position \"2\"\"\n",
                        "Description: \"Two columns in the header row have the same value. Column names should be unique.\"\n"
                    ],
                    "name": "stdout"
                }
            ]
        },
        {
            "cell_type": "markdown",
            "metadata": {
                "id": "GpnR-hYd_AYH",
                "colab_type": "text"
            },
            "source": [
                "Above, we have listed universal error properties. Depending on the type of an error there can be additional ones. For example, for our `duplicate-header` error:"
            ]
        },
        {
            "cell_type": "code",
            "metadata": {
                "id": "dBXFPHfB_PBj",
                "colab_type": "code",
                "colab": {
                    "base_uri": "https://localhost:8080/",
                    "height": 235
                },
                "executionInfo": {
                    "status": "ok",
                    "timestamp": 1596452624709,
                    "user_tz": -180,
                    "elapsed": 628,
                    "user": {
                        "displayName": "Evgeny Karev",
                        "photoUrl": "",
                        "userId": "12160649330696878788"
                    }
                },
                "outputId": "a152ee05-9bcf-4a63-bbeb-52ca30874502"
            },
            "source": [
                "from frictionless import validate\n",
                "\n",
                "report = validate('capital.csv', pick_errors=['duplicate-header'])\n",
                "error = report.table.error # it's only available for 1 table / 1 error sitution\n",
                "pprint(error)"
            ],
            "execution_count": null,
            "outputs": [
                {
                    "output_type": "stream",
                    "text": [
                        "{'cell': 'name',\n",
                        " 'cells': ['id', 'name', 'name'],\n",
                        " 'code': 'duplicate-header',\n",
                        " 'description': 'Two columns in the header row have the same value. Column '\n",
                        "                'names should be unique.',\n",
                        " 'fieldName': 'name2',\n",
                        " 'fieldNumber': 3,\n",
                        " 'fieldPosition': 3,\n",
                        " 'message': 'Header \"name\" in field at position \"3\" is duplicated to header in '\n",
                        "            'another field: at position \"2\"',\n",
                        " 'name': 'Duplicate Header',\n",
                        " 'note': 'at position \"2\"',\n",
                        " 'tags': ['#head', '#structure']}\n"
                    ],
                    "name": "stdout"
                }
            ]
        },
        {
            "cell_type": "markdown",
            "metadata": {
                "id": "HKLXuqQ6_gGN",
                "colab_type": "text"
            },
            "source": [
                "Please explore \"Errors Reference\" to learn about all the avialble errors and their properties."
            ]
        },
        {
            "cell_type": "markdown",
            "metadata": {
                "id": "NuJL_UxZGBQ1",
                "colab_type": "text"
            },
            "source": [
                "## Errors Options\n",
                "\n",
                "We have already seen a few mentions of error options like `pick_errors`. Let's take a look at all of them. These options are similiar to the `extract`'s counterparts for fields and rows."
            ]
        },
        {
            "cell_type": "markdown",
            "metadata": {
                "id": "PB0zIIcc_9X2",
                "colab_type": "text"
            },
            "source": [
                "**Pick/Skip Errors**\n",
                "\n",
                "We can pick or skip errors providing a list of error codes. For example:"
            ]
        },
        {
            "cell_type": "code",
            "metadata": {
                "id": "XQeZmwCsADsz",
                "colab_type": "code",
                "colab": {
                    "base_uri": "https://localhost:8080/",
                    "height": 101
                },
                "executionInfo": {
                    "status": "ok",
                    "timestamp": 1596452820421,
                    "user_tz": -180,
                    "elapsed": 745,
                    "user": {
                        "displayName": "Evgeny Karev",
                        "photoUrl": "",
                        "userId": "12160649330696878788"
                    }
                },
                "outputId": "d8c958e5-41d9-43be-b63a-632ca4751833"
            },
            "source": [
                "from frictionless import validate\n",
                "\n",
                "report1 = validate('capital.csv', pick_errors=['duplicate-header'])\n",
                "report2 = validate('capital.csv', skip_errors=['duplicate-header'])\n",
                "pprint(report1.flatten(['rowPosition', 'fieldPosition', 'code']))\n",
                "pprint(report2.flatten(['rowPosition', 'fieldPosition', 'code']))"
            ],
            "execution_count": null,
            "outputs": [
                {
                    "output_type": "stream",
                    "text": [
                        "[[None, 3, 'duplicate-header']]\n",
                        "[[10, 3, 'missing-cell'],\n",
                        " [11, None, 'blank-row'],\n",
                        " [12, 4, 'extra-cell'],\n",
                        " [12, 1, 'type-error']]\n"
                    ],
                    "name": "stdout"
                }
            ]
        },
        {
            "cell_type": "markdown",
            "metadata": {
                "id": "4ytvdzf-AZbh",
                "colab_type": "text"
            },
            "source": [
                "It's also possible to use error tags (for more information please consult with \"Errors Reference\"):"
            ]
        },
        {
            "cell_type": "code",
            "metadata": {
                "id": "ZCN4Y99iAkiD",
                "colab_type": "code",
                "colab": {
                    "base_uri": "https://localhost:8080/",
                    "height": 50
                },
                "executionInfo": {
                    "status": "ok",
                    "timestamp": 1596452934468,
                    "user_tz": -180,
                    "elapsed": 1220,
                    "user": {
                        "displayName": "Evgeny Karev",
                        "photoUrl": "",
                        "userId": "12160649330696878788"
                    }
                },
                "outputId": "8fd8f65e-93ef-4ded-a6fd-7bb18fa15a29"
            },
            "source": [
                "from frictionless import validate\n",
                "\n",
                "report1 = validate('capital.csv', pick_errors=['#head'])\n",
                "report2 = validate('capital.csv', skip_errors=['#body'])\n",
                "pprint(report1.flatten(['rowPosition', 'fieldPosition', 'code']))\n",
                "pprint(report2.flatten(['rowPosition', 'fieldPosition', 'code']))"
            ],
            "execution_count": null,
            "outputs": [
                {
                    "output_type": "stream",
                    "text": [
                        "[[None, 3, 'duplicate-header']]\n",
                        "[[None, 3, 'duplicate-header']]\n"
                    ],
                    "name": "stdout"
                }
            ]
        },
        {
            "cell_type": "markdown",
            "metadata": {
                "id": "eVd3IMOpAszF",
                "colab_type": "text"
            },
            "source": [
                "**Limit Errors**\n",
                "\n",
                "This option is self-explanatory and can be used when you need to \"fail fast\" or get a limited amount of errors:"
            ]
        },
        {
            "cell_type": "code",
            "metadata": {
                "id": "KrjdTgzsA3Nu",
                "colab_type": "code",
                "colab": {
                    "base_uri": "https://localhost:8080/",
                    "height": 34
                },
                "executionInfo": {
                    "status": "ok",
                    "timestamp": 1596453011463,
                    "user_tz": -180,
                    "elapsed": 640,
                    "user": {
                        "displayName": "Evgeny Karev",
                        "photoUrl": "",
                        "userId": "12160649330696878788"
                    }
                },
                "outputId": "28cb783c-e611-4384-b19d-cac56bbc0843"
            },
            "source": [
                "from frictionless import validate\n",
                "\n",
                "report = validate('capital.csv', limit_errors=1)\n",
                "pprint(report.flatten(['rowPosition', 'fieldPosition', 'code']))"
            ],
            "execution_count": null,
            "outputs": [
                {
                    "output_type": "stream",
                    "text": [
                        "[[None, 3, 'duplicate-header']]\n"
                    ],
                    "name": "stdout"
                }
            ]
        },
        {
            "cell_type": "markdown",
            "metadata": {
                "id": "NICJlldbGDDr",
                "colab_type": "text"
            },
            "source": [
                "## Memory Options\n",
                "\n",
                "Frictionless is a streaming engine; usually it's possible to validate terrabytes of data with basically O(1) memory consumption. For some validation, it's not the case because Frctionless needs to buffer some cells e.g. to checks uniqueness. Here memory management can be handy."
            ]
        },
        {
            "cell_type": "markdown",
            "metadata": {
                "id": "0jIgtH0BBvKT",
                "colab_type": "text"
            },
            "source": [
                "**Limit Memory**\n",
                "\n",
                "Default memory limit is 1000MB. You can adjust it based on your exact use case. For example, if you're running Frictionless as an API server you might reduce the memory usage. If a validation hits the limit it will not raise of fail - it will return a report with a task error:"
            ]
        },
        {
            "cell_type": "code",
            "metadata": {
                "id": "A5phDwZ-CQWM",
                "colab_type": "code",
                "colab": {
                    "base_uri": "https://localhost:8080/",
                    "height": 34
                },
                "executionInfo": {
                    "status": "ok",
                    "timestamp": 1596453420238,
                    "user_tz": -180,
                    "elapsed": 1834,
                    "user": {
                        "displayName": "Evgeny Karev",
                        "photoUrl": "",
                        "userId": "12160649330696878788"
                    }
                },
                "outputId": "c3ccb4df-b0a6-4d8c-a0ee-e1e14ad2f12d"
            },
            "source": [
                "from frictionless import validate\n",
                "\n",
                "source = lambda: ([integer] for integer in range(1, 100000000))\n",
                "schema = {\"fields\": [{\"name\": \"integer\", \"type\": \"integer\"}], \"primaryKey\": \"integer\"}\n",
                "report = validate(source, headers=False, schema=schema, limit_memory=50)\n",
                "print(report.flatten([\"code\", \"note\"]))\n"
            ],
            "execution_count": null,
            "outputs": [
                {
                    "output_type": "stream",
                    "text": [
                        "[['task-error', 'exceeded memory limit \"50MB\"']]\n"
                    ],
                    "name": "stdout"
                }
            ]
        },
        {
            "cell_type": "markdown",
            "metadata": {
                "id": "mHZW8iauY71b",
                "colab_type": "text"
            },
            "source": [
                "## Checks Options\n",
                "\n",
                "Ther are two check options: `checksum` and `extra_checks`. The first allows to stricten a baseline validation white the latter is used to enforce additional checks."
            ]
        },
        {
            "cell_type": "markdown",
            "metadata": {
                "id": "kKqRl8P9KjXK",
                "colab_type": "text"
            },
            "source": [
                "**Checksum**\n",
                "\n",
                "We can provide a hash string, the amount of bytes, and the amount of rows. Frictionless will ensure as a part of a validation that the actual values match the expected ones. Let's show for the hash:"
            ]
        },
        {
            "cell_type": "code",
            "metadata": {
                "id": "4VIk09yLKiIa",
                "colab_type": "code",
                "colab": {
                    "base_uri": "https://localhost:8080/",
                    "height": 54
                },
                "executionInfo": {
                    "status": "ok",
                    "timestamp": 1596455843279,
                    "user_tz": -180,
                    "elapsed": 606,
                    "user": {
                        "displayName": "Evgeny Karev",
                        "photoUrl": "",
                        "userId": "12160649330696878788"
                    }
                },
                "outputId": "88190274-2927-49ad-dc6c-d0b5a667fc66"
            },
            "source": [
                "from frictionless import validate\n",
                "\n",
                "report = validate('capital.csv', checksum={'hash': 'bad'}, pick_errors=['#checksum'])\n",
                "print(report.flatten([\"code\", \"note\"]))"
            ],
            "execution_count": 22,
            "outputs": [
                {
                    "output_type": "stream",
                    "text": [
                        "[['checksum-error', 'expected hash in md5 is \"bad\" and actual is \"dcdeae358cfd50860c18d953e021f836\"']]\n"
                    ],
                    "name": "stdout"
                }
            ]
        },
        {
            "cell_type": "markdown",
            "metadata": {
                "id": "1c_GUQcyLdgh",
                "colab_type": "text"
            },
            "source": [
                "The same can be show for the bytes and rows:"
            ]
        },
        {
            "cell_type": "code",
            "metadata": {
                "id": "bAWtbRyxLhrv",
                "colab_type": "code",
                "colab": {
                    "base_uri": "https://localhost:8080/",
                    "height": 50
                },
                "executionInfo": {
                    "status": "ok",
                    "timestamp": 1596455828206,
                    "user_tz": -180,
                    "elapsed": 675,
                    "user": {
                        "displayName": "Evgeny Karev",
                        "photoUrl": "",
                        "userId": "12160649330696878788"
                    }
                },
                "outputId": "09e7d139-5b6b-4b3d-c5a3-7e8e41d89341"
            },
            "source": [
                "from frictionless import validate\n",
                "\n",
                "report = validate('capital.csv', checksum={'bytes': 10, 'rows': 10}, pick_errors=['#checksum'])\n",
                "pprint(report.flatten([\"code\", \"note\"]))"
            ],
            "execution_count": 20,
            "outputs": [
                {
                    "output_type": "stream",
                    "text": [
                        "[['checksum-error', 'expected bytes count is \"10\" and actual is \"171\"'],\n",
                        " ['checksum-error', 'expected rows count is \"10\" and actual is \"11\"']]\n"
                    ],
                    "name": "stdout"
                }
            ]
        },
        {
            "cell_type": "markdown",
            "metadata": {
                "id": "g3aZCpB2L0Cu",
                "colab_type": "text"
            },
            "source": [
                "**Extra Checks**\n",
                "\n",
                "It's possible to provide a list of extra checks where individual checks are in the form of:\n",
                "- a string: `check-name`\n",
                "- a list: `['check-name', {'option1': 'value1'}]`\n",
                "\n",
                "It's also possible to use a `Check` subclass instead of name which will be shown in the \"Custom Checks\" section. Let's have a loot at an example:"
            ]
        },
        {
            "cell_type": "code",
            "metadata": {
                "id": "Mh_eT1eOM0wk",
                "colab_type": "code",
                "colab": {
                    "base_uri": "https://localhost:8080/",
                    "height": 118
                },
                "executionInfo": {
                    "status": "ok",
                    "timestamp": 1596456316209,
                    "user_tz": -180,
                    "elapsed": 668,
                    "user": {
                        "displayName": "Evgeny Karev",
                        "photoUrl": "",
                        "userId": "12160649330696878788"
                    }
                },
                "outputId": "12ba17bb-7124-4f6c-e962-302206284f7b"
            },
            "source": [
                "from frictionless import validate\n",
                "\n",
                "report = validate('capital.csv', extra_checks=[('sequential-value', {'fieldName': 'id'})])\n",
                "pprint(report.flatten([\"rowPosition\", \"fieldPosition\", \"code\", \"note\"]))"
            ],
            "execution_count": 25,
            "outputs": [
                {
                    "output_type": "stream",
                    "text": [
                        "[[None, 3, 'duplicate-header', 'at position \"2\"'],\n",
                        " [10, 3, 'missing-cell', ''],\n",
                        " [10, 1, 'sequential-value', 'the value is not sequential'],\n",
                        " [11, None, 'blank-row', ''],\n",
                        " [12, 4, 'extra-cell', ''],\n",
                        " [12, 1, 'type-error', 'type is \"integer/default\"']]\n"
                    ],
                    "name": "stdout"
                }
            ]
        },
        {
            "cell_type": "markdown",
            "metadata": {
                "id": "Pe39MUnqNp1p",
                "colab_type": "text"
            },
            "source": [
                "See the sections below for a list of available checks.  "
            ]
        },
        {
            "cell_type": "markdown",
            "metadata": {
                "id": "KkfviH5_I4Pg",
                "colab_type": "text"
            },
            "source": [
                "## Baseline Check\n",
                "\n",
                "By default, Frictionless runs only the Baseline Check but includes vairous smaller checks revealing a great deal of tabular errors. There is a `report.tables[].scope` property to check what exact errors it have been checked for:"
            ]
        },
        {
            "cell_type": "code",
            "metadata": {
                "id": "9SnJcTD6OkO7",
                "colab_type": "code",
                "colab": {
                    "base_uri": "https://localhost:8080/",
                    "height": 302
                },
                "executionInfo": {
                    "status": "ok",
                    "timestamp": 1596456644599,
                    "user_tz": -180,
                    "elapsed": 590,
                    "user": {
                        "displayName": "Evgeny Karev",
                        "photoUrl": "",
                        "userId": "12160649330696878788"
                    }
                },
                "outputId": "3318b4ad-a2e6-48a4-f7a6-91f04d80a098"
            },
            "source": [
                "from frictionless import validate\n",
                "\n",
                "report = validate('capital.csv')\n",
                "pprint(report.table.scope)"
            ],
            "execution_count": 28,
            "outputs": [
                {
                    "output_type": "stream",
                    "text": [
                        "['dialect-error',\n",
                        " 'schema-error',\n",
                        " 'field-error',\n",
                        " 'extra-header',\n",
                        " 'missing-header',\n",
                        " 'blank-header',\n",
                        " 'duplicate-header',\n",
                        " 'non-matching-header',\n",
                        " 'extra-cell',\n",
                        " 'missing-cell',\n",
                        " 'blank-row',\n",
                        " 'type-error',\n",
                        " 'constraint-error',\n",
                        " 'unique-error',\n",
                        " 'primary-key-error',\n",
                        " 'foreign-key-error',\n",
                        " 'checksum-error']\n"
                    ],
                    "name": "stdout"
                }
            ]
        },
        {
            "cell_type": "markdown",
            "metadata": {
                "id": "SPaRDuFbItQj",
                "colab_type": "text"
            },
            "source": [
                "## Heuristic Checks\n",
                "\n",
                "> This section is work-in-progress\n",
                "\n"
            ]
        },
        {
            "cell_type": "markdown",
            "metadata": {
                "id": "fVkB3Uv7O-wM",
                "colab_type": "text"
            },
            "source": [
                "**Duplicate Row**"
            ]
        },
        {
            "cell_type": "markdown",
            "metadata": {
                "id": "fXpYuVhePFnX",
                "colab_type": "text"
            },
            "source": [
                "**Deviated Value**"
            ]
        },
        {
            "cell_type": "markdown",
            "metadata": {
                "id": "g6IXcv5wPIn2",
                "colab_type": "text"
            },
            "source": [
                "**Truncated Value**"
            ]
        },
        {
            "cell_type": "markdown",
            "metadata": {
                "id": "bZLcseiBIzGY",
                "colab_type": "text"
            },
            "source": [
                "## Regulation Checks\n",
                "\n",
                "> This section is work-in-progress"
            ]
        },
        {
            "cell_type": "markdown",
            "metadata": {
                "id": "f1HNTDsWPQy7",
                "colab_type": "text"
            },
            "source": [
                "**Blacklisted Value**"
            ]
        },
        {
            "cell_type": "markdown",
            "metadata": {
                "id": "va_xF0YyPVTO",
                "colab_type": "text"
            },
            "source": [
                "**Sequential Value**"
            ]
        },
        {
            "cell_type": "markdown",
            "metadata": {
                "id": "M-zIvnmGPZLF",
                "colab_type": "text"
            },
            "source": [
                "**Row Constraint**"
            ]
        },
        {
            "cell_type": "markdown",
            "metadata": {
                "id": "9mWEihwUZKEy",
                "colab_type": "text"
            },
            "source": [
                "## Custom Checks\n",
                "\n",
                "> This section is work-in-progress"
            ]
        }
    ]
}
